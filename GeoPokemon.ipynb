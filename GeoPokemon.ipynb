{
 "cells": [
  {
   "cell_type": "code",
   "execution_count": 1,
   "metadata": {},
   "outputs": [],
   "source": [
    "import json\n",
    "import requests as r\n",
    "import cv2\n",
    "import base64\n",
    "import numpy as np\n",
    "import imageio\n",
    "import re"
   ]
  },
  {
   "cell_type": "code",
   "execution_count": 2,
   "metadata": {
    "scrolled": true
   },
   "outputs": [
    {
     "ename": "NameError",
     "evalue": "name 'locations' is not defined",
     "output_type": "error",
     "traceback": [
      "\u001b[1;31m---------------------------------------------------------------------------\u001b[0m",
      "\u001b[1;31mNameError\u001b[0m                                 Traceback (most recent call last)",
      "\u001b[1;32m<ipython-input-2-693e1b5df4e5>\u001b[0m in \u001b[0;36m<module>\u001b[1;34m\u001b[0m\n\u001b[1;32m----> 1\u001b[1;33m \u001b[0mres_busqueda\u001b[0m \u001b[1;33m=\u001b[0m \u001b[0mlocations\u001b[0m\u001b[1;33m(\u001b[0m\u001b[1;34m\"gurdurr\"\u001b[0m\u001b[1;33m,\u001b[0m\u001b[1;34m\"black\"\u001b[0m\u001b[1;33m)\u001b[0m\u001b[1;33m\u001b[0m\u001b[1;33m\u001b[0m\u001b[0m\n\u001b[0m\u001b[0;32m      2\u001b[0m \u001b[0mres_busqueda\u001b[0m\u001b[1;33m\u001b[0m\u001b[1;33m\u001b[0m\u001b[0m\n",
      "\u001b[1;31mNameError\u001b[0m: name 'locations' is not defined"
     ]
    }
   ],
   "source": [
    "res_busqueda = locations(\"gurdurr\",\"black\")\n",
    "res_busqueda"
   ]
  },
  {
   "cell_type": "code",
   "execution_count": 4,
   "metadata": {},
   "outputs": [
    {
     "data": {
      "text/plain": [
       "['twist-mountain-area']"
      ]
     },
     "execution_count": 4,
     "metadata": {},
     "output_type": "execute_result"
    }
   ],
   "source": [
    "res_busqueda[0]"
   ]
  },
  {
   "attachments": {},
   "cell_type": "markdown",
   "metadata": {},
   "source": [
    "## Locations"
   ]
  },
  {
   "cell_type": "code",
   "execution_count": 30,
   "metadata": {},
   "outputs": [
    {
     "data": {
      "text/plain": [
       "<Response [200]>"
      ]
     },
     "execution_count": 30,
     "metadata": {},
     "output_type": "execute_result"
    }
   ],
   "source": [
    "loc = r.get(\"https://pokeapi.co/api/v2/region/kanto/\")\n",
    "loc"
   ]
  },
  {
   "cell_type": "code",
   "execution_count": 37,
   "metadata": {
    "scrolled": false
   },
   "outputs": [
    {
     "data": {
      "text/plain": [
       "[{'name': 'celadon-city', 'url': 'https://pokeapi.co/api/v2/location/67/'},\n",
       " {'name': 'cerulean-city', 'url': 'https://pokeapi.co/api/v2/location/68/'},\n",
       " {'name': 'cinnabar-island', 'url': 'https://pokeapi.co/api/v2/location/71/'},\n",
       " {'name': 'digletts-cave', 'url': 'https://pokeapi.co/api/v2/location/73/'},\n",
       " {'name': 'fuchsia-city', 'url': 'https://pokeapi.co/api/v2/location/76/'},\n",
       " {'name': 'mt-moon', 'url': 'https://pokeapi.co/api/v2/location/80/'},\n",
       " {'name': 'pallet-town', 'url': 'https://pokeapi.co/api/v2/location/86/'},\n",
       " {'name': 'rock-tunnel', 'url': 'https://pokeapi.co/api/v2/location/87/'},\n",
       " {'name': 'kanto-route-1', 'url': 'https://pokeapi.co/api/v2/location/88/'},\n",
       " {'name': 'kanto-route-10', 'url': 'https://pokeapi.co/api/v2/location/89/'},\n",
       " {'name': 'kanto-route-11', 'url': 'https://pokeapi.co/api/v2/location/90/'},\n",
       " {'name': 'kanto-route-12', 'url': 'https://pokeapi.co/api/v2/location/91/'},\n",
       " {'name': 'kanto-route-13', 'url': 'https://pokeapi.co/api/v2/location/92/'},\n",
       " {'name': 'kanto-route-14', 'url': 'https://pokeapi.co/api/v2/location/93/'},\n",
       " {'name': 'kanto-route-15', 'url': 'https://pokeapi.co/api/v2/location/94/'},\n",
       " {'name': 'kanto-route-16', 'url': 'https://pokeapi.co/api/v2/location/95/'},\n",
       " {'name': 'kanto-route-17', 'url': 'https://pokeapi.co/api/v2/location/96/'},\n",
       " {'name': 'kanto-route-18', 'url': 'https://pokeapi.co/api/v2/location/97/'},\n",
       " {'name': 'kanto-sea-route-19',\n",
       "  'url': 'https://pokeapi.co/api/v2/location/98/'},\n",
       " {'name': 'kanto-route-2', 'url': 'https://pokeapi.co/api/v2/location/99/'},\n",
       " {'name': 'kanto-sea-route-20',\n",
       "  'url': 'https://pokeapi.co/api/v2/location/100/'},\n",
       " {'name': 'kanto-sea-route-21',\n",
       "  'url': 'https://pokeapi.co/api/v2/location/101/'},\n",
       " {'name': 'kanto-route-22', 'url': 'https://pokeapi.co/api/v2/location/102/'},\n",
       " {'name': 'kanto-route-24', 'url': 'https://pokeapi.co/api/v2/location/103/'},\n",
       " {'name': 'kanto-route-25', 'url': 'https://pokeapi.co/api/v2/location/104/'},\n",
       " {'name': 'kanto-route-26', 'url': 'https://pokeapi.co/api/v2/location/105/'},\n",
       " {'name': 'kanto-route-27', 'url': 'https://pokeapi.co/api/v2/location/106/'},\n",
       " {'name': 'kanto-route-28', 'url': 'https://pokeapi.co/api/v2/location/107/'},\n",
       " {'name': 'kanto-route-3', 'url': 'https://pokeapi.co/api/v2/location/109/'},\n",
       " {'name': 'kanto-route-4', 'url': 'https://pokeapi.co/api/v2/location/120/'},\n",
       " {'name': 'kanto-route-5', 'url': 'https://pokeapi.co/api/v2/location/130/'},\n",
       " {'name': 'kanto-route-6', 'url': 'https://pokeapi.co/api/v2/location/131/'},\n",
       " {'name': 'kanto-route-7', 'url': 'https://pokeapi.co/api/v2/location/132/'},\n",
       " {'name': 'kanto-route-8', 'url': 'https://pokeapi.co/api/v2/location/133/'},\n",
       " {'name': 'kanto-route-9', 'url': 'https://pokeapi.co/api/v2/location/134/'},\n",
       " {'name': 'seafoam-islands', 'url': 'https://pokeapi.co/api/v2/location/136/'},\n",
       " {'name': 'cerulean-cave', 'url': 'https://pokeapi.co/api/v2/location/147/'},\n",
       " {'name': 'vermilion-city', 'url': 'https://pokeapi.co/api/v2/location/151/'},\n",
       " {'name': 'kanto-victory-road-1',\n",
       "  'url': 'https://pokeapi.co/api/v2/location/152/'},\n",
       " {'name': 'viridian-city', 'url': 'https://pokeapi.co/api/v2/location/154/'},\n",
       " {'name': 'viridian-forest', 'url': 'https://pokeapi.co/api/v2/location/155/'},\n",
       " {'name': 'kanto-route-23', 'url': 'https://pokeapi.co/api/v2/location/157/'},\n",
       " {'name': 'power-plant', 'url': 'https://pokeapi.co/api/v2/location/158/'},\n",
       " {'name': 'kanto-victory-road-2',\n",
       "  'url': 'https://pokeapi.co/api/v2/location/159/'},\n",
       " {'name': 'pokemon-tower', 'url': 'https://pokeapi.co/api/v2/location/160/'},\n",
       " {'name': 'pokemon-mansion', 'url': 'https://pokeapi.co/api/v2/location/161/'},\n",
       " {'name': 'kanto-safari-zone',\n",
       "  'url': 'https://pokeapi.co/api/v2/location/162/'},\n",
       " {'name': 'pewter-city', 'url': 'https://pokeapi.co/api/v2/location/231/'},\n",
       " {'name': 'lavender-town', 'url': 'https://pokeapi.co/api/v2/location/232/'},\n",
       " {'name': 'indigo-plateau', 'url': 'https://pokeapi.co/api/v2/location/233/'},\n",
       " {'name': 'saffron-city', 'url': 'https://pokeapi.co/api/v2/location/234/'},\n",
       " {'name': 'monean-chamber', 'url': 'https://pokeapi.co/api/v2/location/491/'},\n",
       " {'name': 'liptoo-chamber', 'url': 'https://pokeapi.co/api/v2/location/492/'},\n",
       " {'name': 'weepth-chamber', 'url': 'https://pokeapi.co/api/v2/location/493/'},\n",
       " {'name': 'dilford-chamber', 'url': 'https://pokeapi.co/api/v2/location/494/'},\n",
       " {'name': 'scufib-chamber', 'url': 'https://pokeapi.co/api/v2/location/495/'},\n",
       " {'name': 'rixy-chamber', 'url': 'https://pokeapi.co/api/v2/location/496/'},\n",
       " {'name': 'viapos-chamber', 'url': 'https://pokeapi.co/api/v2/location/497/'},\n",
       " {'name': 'ss-anne', 'url': 'https://pokeapi.co/api/v2/location/498/'},\n",
       " {'name': 'mt-ember', 'url': 'https://pokeapi.co/api/v2/location/500/'},\n",
       " {'name': 'berry-forest', 'url': 'https://pokeapi.co/api/v2/location/501/'},\n",
       " {'name': 'icefall-cave', 'url': 'https://pokeapi.co/api/v2/location/502/'},\n",
       " {'name': 'pattern-bush', 'url': 'https://pokeapi.co/api/v2/location/503/'},\n",
       " {'name': 'lost-cave', 'url': 'https://pokeapi.co/api/v2/location/504/'},\n",
       " {'name': 'kindle-road', 'url': 'https://pokeapi.co/api/v2/location/505/'},\n",
       " {'name': 'treasure-beach', 'url': 'https://pokeapi.co/api/v2/location/506/'},\n",
       " {'name': 'cape-brink', 'url': 'https://pokeapi.co/api/v2/location/507/'},\n",
       " {'name': 'bond-bridge', 'url': 'https://pokeapi.co/api/v2/location/508/'},\n",
       " {'name': 'three-isle-port', 'url': 'https://pokeapi.co/api/v2/location/509/'},\n",
       " {'name': 'resort-gorgeous', 'url': 'https://pokeapi.co/api/v2/location/510/'},\n",
       " {'name': 'water-labyrinth', 'url': 'https://pokeapi.co/api/v2/location/511/'},\n",
       " {'name': 'five-isle-meadow',\n",
       "  'url': 'https://pokeapi.co/api/v2/location/512/'},\n",
       " {'name': 'memorial-pillar', 'url': 'https://pokeapi.co/api/v2/location/513/'},\n",
       " {'name': 'outcast-island', 'url': 'https://pokeapi.co/api/v2/location/514/'},\n",
       " {'name': 'green-path', 'url': 'https://pokeapi.co/api/v2/location/515/'},\n",
       " {'name': 'water-path', 'url': 'https://pokeapi.co/api/v2/location/516/'},\n",
       " {'name': 'ruin-valley', 'url': 'https://pokeapi.co/api/v2/location/517/'},\n",
       " {'name': 'trainer-tower', 'url': 'https://pokeapi.co/api/v2/location/518/'},\n",
       " {'name': 'canyon-entrance', 'url': 'https://pokeapi.co/api/v2/location/519/'},\n",
       " {'name': 'sevault-canyon', 'url': 'https://pokeapi.co/api/v2/location/520/'},\n",
       " {'name': 'tanoby-ruins', 'url': 'https://pokeapi.co/api/v2/location/521/'},\n",
       " {'name': 'one-island', 'url': 'https://pokeapi.co/api/v2/location/526/'},\n",
       " {'name': 'four-island', 'url': 'https://pokeapi.co/api/v2/location/527/'},\n",
       " {'name': 'five-island', 'url': 'https://pokeapi.co/api/v2/location/528/'},\n",
       " {'name': 'kanto-altering-cave',\n",
       "  'url': 'https://pokeapi.co/api/v2/location/529/'},\n",
       " {'name': 'roaming-kanto', 'url': 'https://pokeapi.co/api/v2/location/799/'},\n",
       " {'name': 'two-island', 'url': 'https://pokeapi.co/api/v2/location/805/'},\n",
       " {'name': 'three-island', 'url': 'https://pokeapi.co/api/v2/location/806/'},\n",
       " {'name': 'three-isle-path', 'url': 'https://pokeapi.co/api/v2/location/807/'},\n",
       " {'name': 'six-island', 'url': 'https://pokeapi.co/api/v2/location/808/'},\n",
       " {'name': 'seven-island', 'url': 'https://pokeapi.co/api/v2/location/809/'},\n",
       " {'name': 'birth-island', 'url': 'https://pokeapi.co/api/v2/location/810/'},\n",
       " {'name': 'navel-rock', 'url': 'https://pokeapi.co/api/v2/location/811/'}]"
      ]
     },
     "execution_count": 37,
     "metadata": {},
     "output_type": "execute_result"
    }
   ],
   "source": [
    "json.loads(loc.content)[\"locations\"]"
   ]
  },
  {
   "cell_type": "code",
   "execution_count": 31,
   "metadata": {
    "scrolled": true
   },
   "outputs": [
    {
     "ename": "AttributeError",
     "evalue": "module 'requests' has no attribute 'content'",
     "output_type": "error",
     "traceback": [
      "\u001b[1;31m---------------------------------------------------------------------------\u001b[0m",
      "\u001b[1;31mAttributeError\u001b[0m                            Traceback (most recent call last)",
      "\u001b[1;32m<ipython-input-31-7683fe8827be>\u001b[0m in \u001b[0;36m<module>\u001b[1;34m\u001b[0m\n\u001b[1;32m----> 1\u001b[1;33m \u001b[0mregion\u001b[0m \u001b[1;33m=\u001b[0m \u001b[0mjson\u001b[0m\u001b[1;33m.\u001b[0m\u001b[0mloads\u001b[0m\u001b[1;33m(\u001b[0m\u001b[0mr\u001b[0m\u001b[1;33m.\u001b[0m\u001b[0mcontent\u001b[0m\u001b[1;33m)\u001b[0m\u001b[1;33m\u001b[0m\u001b[1;33m\u001b[0m\u001b[0m\n\u001b[0m\u001b[0;32m      2\u001b[0m \u001b[0mregion\u001b[0m\u001b[1;33m[\u001b[0m\u001b[1;34m\"locations\"\u001b[0m\u001b[1;33m]\u001b[0m\u001b[1;33m\u001b[0m\u001b[1;33m\u001b[0m\u001b[0m\n",
      "\u001b[1;31mAttributeError\u001b[0m: module 'requests' has no attribute 'content'"
     ]
    }
   ],
   "source": [
    "region = json.loads(r.content)\n",
    "region[\"locations\"]"
   ]
  },
  {
   "attachments": {},
   "cell_type": "markdown",
   "metadata": {},
   "source": [
    "## Maps"
   ]
  },
  {
   "cell_type": "code",
   "execution_count": 32,
   "metadata": {
    "scrolled": true
   },
   "outputs": [
    {
     "data": {
      "text/plain": [
       "{'version': '5.2.1',\n",
       " 'flags': {},\n",
       " 'shapes': [{'label': 'sinnoh-route-221',\n",
       "   'points': [[113.8, 255.0], [141.7, 264.4]],\n",
       "   'group_id': None,\n",
       "   'description': '',\n",
       "   'shape_type': 'rectangle',\n",
       "   'flags': {}},\n",
       "  {'label': 'sinnoh-route-220',\n",
       "   'points': [[104.5, 255.4], [112.7, 264.4]],\n",
       "   'group_id': None,\n",
       "   'description': '',\n",
       "   'shape_type': 'rectangle',\n",
       "   'flags': {}},\n",
       "  {'label': 'sinnoh-route-219',\n",
       "   'points': [[104.19999999999999, 247.0], [112.69999999999999, 254.4]],\n",
       "   'group_id': None,\n",
       "   'description': '',\n",
       "   'shape_type': 'rectangle',\n",
       "   'flags': {}},\n",
       "  {'label': 'sinnoh-route-201',\n",
       "   'points': [[103.3, 245.2], [86.9, 236.3]],\n",
       "   'group_id': None,\n",
       "   'description': '',\n",
       "   'shape_type': 'rectangle',\n",
       "   'flags': {}},\n",
       "  {'label': 'sinnoh-route-202',\n",
       "   'points': [[104.3, 235.1], [113.5, 227.7]],\n",
       "   'group_id': None,\n",
       "   'description': '',\n",
       "   'shape_type': 'rectangle',\n",
       "   'flags': {}},\n",
       "  {'label': 'sinnoh-route-218',\n",
       "   'points': [[76.3, 207.6], [93.39999999999999, 216.3]],\n",
       "   'group_id': None,\n",
       "   'description': '',\n",
       "   'shape_type': 'rectangle',\n",
       "   'flags': {}},\n",
       "  {'label': 'sinnoh-route-204',\n",
       "   'points': [[104.8, 189.7], [113.3, 206.4]],\n",
       "   'group_id': None,\n",
       "   'description': '',\n",
       "   'shape_type': 'rectangle',\n",
       "   'flags': {}},\n",
       "  {'label': 'sinnoh-route-205',\n",
       "   'points': [[115.3, 187.5], [122.7, 160.7]],\n",
       "   'group_id': None,\n",
       "   'description': '',\n",
       "   'shape_type': 'rectangle',\n",
       "   'flags': {}},\n",
       "  {'label': 'sinnoh-route-203',\n",
       "   'points': [[114.7, 207.9], [131.3, 217.1]],\n",
       "   'group_id': None,\n",
       "   'description': '',\n",
       "   'shape_type': 'rectangle',\n",
       "   'flags': {}},\n",
       "  {'label': 'sinnoh-route-206',\n",
       "   'points': [[141.6, 205.6], [150.9, 179.3]],\n",
       "   'group_id': None,\n",
       "   'description': '',\n",
       "   'shape_type': 'rectangle',\n",
       "   'flags': {}},\n",
       "  {'label': 'sinnoh-route-207',\n",
       "   'points': [[151.9, 198.3], [161.0, 206.3]],\n",
       "   'group_id': None,\n",
       "   'description': '',\n",
       "   'shape_type': 'rectangle',\n",
       "   'flags': {}},\n",
       "  {'label': 'sinnoh-route-208',\n",
       "   'points': [[170.6, 198.4], [188.2, 207.1]],\n",
       "   'group_id': None,\n",
       "   'description': '',\n",
       "   'shape_type': 'rectangle',\n",
       "   'flags': {}},\n",
       "  {'label': 'sinnoh-route-211',\n",
       "   'points': [[162.4, 141.6], [170.9, 149.6]],\n",
       "   'group_id': None,\n",
       "   'description': '',\n",
       "   'shape_type': 'rectangle',\n",
       "   'flags': {}},\n",
       "  {'label': 'sinnoh-route-211',\n",
       "   'points': [[180.5, 141.8], [189.8, 149.6]],\n",
       "   'group_id': None,\n",
       "   'description': '',\n",
       "   'shape_type': 'rectangle',\n",
       "   'flags': {}},\n",
       "  {'label': 'sinnoh-route-210',\n",
       "   'points': [[201.5, 141.6], [226.7, 150.2]],\n",
       "   'group_id': None,\n",
       "   'description': '',\n",
       "   'shape_type': 'rectangle',\n",
       "   'flags': {}},\n",
       "  {'label': 'sinnoh-route-210',\n",
       "   'points': [[218.8, 150.2], [226.7, 177.9]],\n",
       "   'group_id': None,\n",
       "   'description': '',\n",
       "   'shape_type': 'rectangle',\n",
       "   'flags': {}},\n",
       "  {'label': 'sinnoh-route-215',\n",
       "   'points': [[228.1, 161.1], [255.6, 168.9]],\n",
       "   'group_id': None,\n",
       "   'description': '',\n",
       "   'shape_type': 'rectangle',\n",
       "   'flags': {}},\n",
       "  {'label': 'sinnoh-route-209',\n",
       "   'points': [[210.2, 199.4], [226.8, 206.7]],\n",
       "   'group_id': None,\n",
       "   'description': '',\n",
       "   'shape_type': 'rectangle',\n",
       "   'flags': {}},\n",
       "  {'label': 'sinnoh-route-209',\n",
       "   'points': [[218.9, 189.8], [226.7, 200.3]],\n",
       "   'group_id': None,\n",
       "   'description': '',\n",
       "   'shape_type': 'rectangle',\n",
       "   'flags': {}},\n",
       "  {'label': 'sinnoh-route-212',\n",
       "   'points': [[189.9, 208.6], [198.8, 245.1]],\n",
       "   'group_id': None,\n",
       "   'description': '',\n",
       "   'shape_type': 'rectangle',\n",
       "   'flags': {}},\n",
       "  {'label': 'sinnoh-route-212',\n",
       "   'points': [[198.4, 237.3], [227.1, 245.0]],\n",
       "   'group_id': None,\n",
       "   'description': '',\n",
       "   'shape_type': 'rectangle',\n",
       "   'flags': {}},\n",
       "  {'label': 'sinnoh-route-213',\n",
       "   'points': [[247.7, 227.9], [274.7, 244.9]],\n",
       "   'group_id': None,\n",
       "   'description': '',\n",
       "   'shape_type': 'rectangle',\n",
       "   'flags': {}},\n",
       "  {'label': 'sinnoh-route-222',\n",
       "   'points': [[274.6, 217.8], [302.7, 225.9]],\n",
       "   'group_id': None,\n",
       "   'description': '',\n",
       "   'shape_type': 'rectangle',\n",
       "   'flags': {}},\n",
       "  {'label': 'sinnoh-route-214',\n",
       "   'points': [[265.6, 207.0], [275.2, 180.3]],\n",
       "   'group_id': None,\n",
       "   'description': '',\n",
       "   'shape_type': 'rectangle',\n",
       "   'flags': {}},\n",
       "  {'label': 'sinnoh-route-223',\n",
       "   'points': [[304.1, 207.0], [312.8, 168.7]],\n",
       "   'group_id': None,\n",
       "   'description': '',\n",
       "   'shape_type': 'rectangle',\n",
       "   'flags': {}},\n",
       "  {'label': 'sinnoh-route-224',\n",
       "   'points': [[314.2, 159.2], [322.7, 141.2]],\n",
       "   'group_id': None,\n",
       "   'description': '',\n",
       "   'shape_type': 'rectangle',\n",
       "   'flags': {}},\n",
       "  {'label': 'sinnoh-route-230',\n",
       "   'points': [[257.4, 113.7], [303.5, 121.2]],\n",
       "   'group_id': None,\n",
       "   'description': '',\n",
       "   'shape_type': 'rectangle',\n",
       "   'flags': {}},\n",
       "  {'label': 'sinnoh-route-228',\n",
       "   'points': [[285.8, 113.4], [293.2, 84.9]],\n",
       "   'group_id': None,\n",
       "   'description': '',\n",
       "   'shape_type': 'rectangle',\n",
       "   'flags': {}},\n",
       "  {'label': 'sinnoh-route-226',\n",
       "   'points': [[257.4, 84.8], [284.4, 93.2]],\n",
       "   'group_id': None,\n",
       "   'description': '',\n",
       "   'shape_type': 'rectangle',\n",
       "   'flags': {}},\n",
       "  {'label': 'sinnoh-route-225',\n",
       "   'points': [[237.7, 112.1], [246.2, 84.2]],\n",
       "   'group_id': None,\n",
       "   'description': '',\n",
       "   'shape_type': 'rectangle',\n",
       "   'flags': {}},\n",
       "  {'label': 'sinnoh-route-227',\n",
       "   'points': [[275.3, 84.4], [284.4, 63.7]],\n",
       "   'group_id': None,\n",
       "   'description': '',\n",
       "   'shape_type': 'rectangle',\n",
       "   'flags': {}},\n",
       "  {'label': 'sinnoh-route-206',\n",
       "   'points': [[143.2, 102.6], [179.5, 111.4]],\n",
       "   'group_id': None,\n",
       "   'description': '',\n",
       "   'shape_type': 'rectangle',\n",
       "   'flags': {}},\n",
       "  {'label': 'sinnoh-route-217',\n",
       "   'points': [[142.9, 101.5], [151.6, 66.4]],\n",
       "   'group_id': None,\n",
       "   'description': '',\n",
       "   'shape_type': 'rectangle',\n",
       "   'flags': {}},\n",
       "  {'label': 'lake-verity',\n",
       "   'points': [[66.36977058029689, 227.2327935222672],\n",
       "    [84.72334682860998, 245.5863697705803]],\n",
       "   'group_id': None,\n",
       "   'description': '',\n",
       "   'shape_type': 'rectangle',\n",
       "   'flags': {}},\n",
       "  {'label': 'twinleaf-town',\n",
       "   'points': [[85.8029689608637, 246.665991902834],\n",
       "    [93.76518218623481, 254.49325236167343]],\n",
       "   'group_id': None,\n",
       "   'description': '',\n",
       "   'shape_type': 'rectangle',\n",
       "   'flags': {}},\n",
       "  {'label': 'sandgem-town',\n",
       "   'points': [[105.23616734143049, 237.48920377867745],\n",
       "    [112.52361673414305, 244.77665317139002]],\n",
       "   'group_id': None,\n",
       "   'description': '',\n",
       "   'shape_type': 'rectangle',\n",
       "   'flags': {}},\n",
       "  {'label': 'pal-park',\n",
       "   'points': [[143.2, 257.1], [150.8, 262.1]],\n",
       "   'group_id': None,\n",
       "   'description': '',\n",
       "   'shape_type': 'rectangle',\n",
       "   'flags': {}},\n",
       "  {'label': 'jubilife-city',\n",
       "   'points': [[95.9, 208.1], [112.3, 225.6]],\n",
       "   'group_id': None,\n",
       "   'description': '',\n",
       "   'shape_type': 'rectangle',\n",
       "   'flags': {}},\n",
       "  {'label': 'snowpoint-city',\n",
       "   'points': [[66.5, 198.5], [74.6, 216.4]],\n",
       "   'group_id': None,\n",
       "   'description': '',\n",
       "   'shape_type': 'rectangle',\n",
       "   'flags': {}},\n",
       "  {'label': 'floaroma-town',\n",
       "   'points': [[105.0556117290192, 170.98078867542972],\n",
       "    [112.43680485338726, 187.7654196157735]],\n",
       "   'group_id': None,\n",
       "   'description': '',\n",
       "   'shape_type': 'rectangle',\n",
       "   'flags': {}},\n",
       "  {'label': 'eterna-forest',\n",
       "   'points': [[104.85338725985844, 160.66734074823052],\n",
       "    [112.63902932254803, 168.65520728008087]],\n",
       "   'group_id': None,\n",
       "   'description': '',\n",
       "   'shape_type': 'rectangle',\n",
       "   'flags': {}},\n",
       "  {'label': 'eterna-forest',\n",
       "   'points': [[113.75126390293225, 149.2416582406471],\n",
       "    [132.76036400404448, 158.948432760364]],\n",
       "   'group_id': None,\n",
       "   'description': '',\n",
       "   'shape_type': 'rectangle',\n",
       "   'flags': {}},\n",
       "  {'label': 'sinnoh-route-205',\n",
       "   'points': [[113.75126390293225, 141.15267947421637],\n",
       "    [140.9504550050556, 148.43276036400403]],\n",
       "   'group_id': None,\n",
       "   'description': '',\n",
       "   'shape_type': 'rectangle',\n",
       "   'flags': {}},\n",
       "  {'label': 'eterna-city',\n",
       "   'points': [[142.36602628918098, 159.85844287158744],\n",
       "    [150.4550050556117, 140.74823053589483]],\n",
       "   'group_id': None,\n",
       "   'description': '',\n",
       "   'shape_type': 'rectangle',\n",
       "   'flags': {}},\n",
       "  {'label': 'eterna-city',\n",
       "   'points': [[160.36400404448938, 140.74823053589483],\n",
       "    [149.2416582406471, 149.64610717896863]],\n",
       "   'group_id': None,\n",
       "   'description': '',\n",
       "   'shape_type': 'rectangle',\n",
       "   'flags': {}},\n",
       "  {'label': 'bike-path',\n",
       "   'points': [[141.8510158013544, 161.06094808126412],\n",
       "    [150.99322799097067, 178.55530474040634]],\n",
       "   'group_id': None,\n",
       "   'description': '',\n",
       "   'shape_type': 'rectangle',\n",
       "   'flags': {}},\n",
       "  {'label': 'mt-coronet',\n",
       "   'points': [[161.37697516930024, 206.65914221218964],\n",
       "    [169.84198645598195, 168.6230248306998]],\n",
       "   'group_id': None,\n",
       "   'description': '',\n",
       "   'shape_type': 'rectangle',\n",
       "   'flags': {}},\n",
       "  {'label': 'mt-coronet',\n",
       "   'points': [[170.5191873589165, 179.1196388261851],\n",
       "    [179.66139954853276, 112.30248306997743]],\n",
       "   'group_id': None,\n",
       "   'description': '',\n",
       "   'shape_type': 'rectangle',\n",
       "   'flags': {}},\n",
       "  {'label': 'lake-acuity',\n",
       "   'points': [[143.431151241535, 46.162528216704295],\n",
       "    [160.24830699774267, 64.44695259593679]],\n",
       "   'group_id': None,\n",
       "   'description': '',\n",
       "   'shape_type': 'rectangle',\n",
       "   'flags': {}},\n",
       "  {'label': 'snowpoint-city',\n",
       "   'points': [[161.941309255079, 46.72686230248307],\n",
       "    [169.84198645598195, 63.99548532731377]],\n",
       "   'group_id': None,\n",
       "   'description': '',\n",
       "   'shape_type': 'rectangle',\n",
       "   'flags': {}},\n",
       "  {'label': 'celestic-city',\n",
       "   'points': [[191.51241534988714, 141.7607223476298],\n",
       "    [199.75169300225735, 149.66139954853273]],\n",
       "   'group_id': None,\n",
       "   'description': '',\n",
       "   'shape_type': 'rectangle',\n",
       "   'flags': {}},\n",
       "  {'label': 'solaceon-town',\n",
       "   'points': [[219.27765237020319, 180.36117381489842],\n",
       "    [236.32054176072236, 187.35891647855533]],\n",
       "   'group_id': None,\n",
       "   'description': '',\n",
       "   'shape_type': 'rectangle',\n",
       "   'flags': {}},\n",
       "  {'label': 'pastoria-city',\n",
       "   'points': [[228.29131652661061, 227.30112044817926],\n",
       "    [246.078431372549, 244.94817927170868]],\n",
       "   'group_id': None,\n",
       "   'description': '',\n",
       "   'shape_type': 'rectangle',\n",
       "   'flags': {}},\n",
       "  {'label': 'hearthome-city',\n",
       "   'points': [[190.89635854341736, 189.20588235294116],\n",
       "    [207.9831932773109, 206.4327731092437]],\n",
       "   'group_id': None,\n",
       "   'description': '',\n",
       "   'shape_type': 'rectangle',\n",
       "   'flags': {}},\n",
       "  {'label': 'lake-valour',\n",
       "   'points': [[256.4425770308123, 207.97338935574228],\n",
       "    [274.08963585434174, 226.32072829131653]],\n",
       "   'group_id': None,\n",
       "   'description': '',\n",
       "   'shape_type': 'rectangle',\n",
       "   'flags': {}},\n",
       "  {'label': 'turnback-cave',\n",
       "   'points': [[275.4901960784313, 189.62605042016807],\n",
       "    [292.85714285714283, 206.99299719887955]],\n",
       "   'group_id': None,\n",
       "   'description': '',\n",
       "   'shape_type': 'rectangle',\n",
       "   'flags': {}},\n",
       "  {'label': 'veilstone-city',\n",
       "   'points': [[257.1428571428571, 161.19467787114846],\n",
       "    [274.3697478991596, 178.14145658263305]],\n",
       "   'group_id': None,\n",
       "   'description': '',\n",
       "   'shape_type': 'rectangle',\n",
       "   'flags': {}},\n",
       "  {'label': 'sunyshore-city',\n",
       "   'points': [[304.4817927170868, 207.83333333333331],\n",
       "    [322.1288515406162, 225.76050420168067]],\n",
       "   'group_id': None,\n",
       "   'description': '',\n",
       "   'shape_type': 'rectangle',\n",
       "   'flags': {}},\n",
       "  {'label': 'sinnoh-victory-road',\n",
       "   'points': [[304.4817927170868, 161.47478991596637],\n",
       "    [312.32492997198875, 167.4971988795518]],\n",
       "   'group_id': None,\n",
       "   'description': '',\n",
       "   'shape_type': 'rectangle',\n",
       "   'flags': {}},\n",
       "  {'label': 'flower-paradise',\n",
       "   'points': [[323.109243697479, 44.94817927170869],\n",
       "    [331.93277310924367, 52.65126050420169]],\n",
       "   'group_id': None,\n",
       "   'description': '',\n",
       "   'shape_type': 'rectangle',\n",
       "   'flags': {}},\n",
       "  {'label': 'stark-mountain',\n",
       "   'points': [[275.6302521008403, 55.872549019607845],\n",
       "    [284.1736694677871, 62.5952380952381]],\n",
       "   'group_id': None,\n",
       "   'description': '',\n",
       "   'shape_type': 'rectangle',\n",
       "   'flags': {}},\n",
       "  {'label': 'resort-area',\n",
       "   'points': [[294.3977591036414, 122.67927170868347],\n",
       "    [302.94117647058823, 130.52240896358543]],\n",
       "   'group_id': None,\n",
       "   'description': '',\n",
       "   'shape_type': 'rectangle',\n",
       "   'flags': {}},\n",
       "  {'label': 'survival-area',\n",
       "   'points': [[247.33893557422968, 84.72408963585434],\n",
       "    [255.60224089635852, 92.42717086834735]],\n",
       "   'group_id': None,\n",
       "   'description': '',\n",
       "   'shape_type': 'rectangle',\n",
       "   'flags': {}},\n",
       "  {'label': 'fight-area',\n",
       "   'points': [[237.6750700280112, 113.15546218487395],\n",
       "    [255.88235294117644, 120.99859943977592]],\n",
       "   'group_id': None,\n",
       "   'description': '',\n",
       "   'shape_type': 'rectangle',\n",
       "   'flags': {}},\n",
       "  {'label': 'iron-island',\n",
       "   'points': [[85.08474576271186, 131.52542372881356],\n",
       "    [94.57627118644068, 140.84745762711864]],\n",
       "   'group_id': None,\n",
       "   'description': '',\n",
       "   'shape_type': 'rectangle',\n",
       "   'flags': {}},\n",
       "  {'label': 'iron-ruins',\n",
       "   'points': [[85.42372881355932, 132.03389830508473],\n",
       "    [94.40677966101694, 140.67796610169492]],\n",
       "   'group_id': None,\n",
       "   'description': '',\n",
       "   'shape_type': 'rectangle',\n",
       "   'flags': {}},\n",
       "  {'label': 'fullmoon-island',\n",
       "   'points': [[76.27118644067797, 64.40677966101694],\n",
       "    [85.59322033898304, 74.06779661016948]],\n",
       "   'group_id': None,\n",
       "   'description': '',\n",
       "   'shape_type': 'rectangle',\n",
       "   'flags': {}},\n",
       "  {'label': 'newmoon-island',\n",
       "   'points': [[94.23728813559322, 64.7457627118644],\n",
       "    [103.89830508474576, 73.38983050847457]],\n",
       "   'group_id': None,\n",
       "   'description': '',\n",
       "   'shape_type': 'rectangle',\n",
       "   'flags': {}},\n",
       "  {'label': 'valley-windworks',\n",
       "   'points': [[122.7124183006536, 179.5653594771242],\n",
       "    [132.02614379084966, 187.40849673202615]],\n",
       "   'group_id': None,\n",
       "   'description': '',\n",
       "   'shape_type': 'rectangle',\n",
       "   'flags': {}},\n",
       "  {'label': 'oreburgh-city',\n",
       "   'points': [[133.66013071895424, 208.65032679738562],\n",
       "    [150.81699346405227, 216.16666666666669]],\n",
       "   'group_id': None,\n",
       "   'description': '',\n",
       "   'shape_type': 'rectangle',\n",
       "   'flags': {}},\n",
       "  {'label': 'oreburgh-city',\n",
       "   'points': [[142.15686274509804, 208.97712418300654],\n",
       "    [150.98039215686273, 225.6437908496732]],\n",
       "   'group_id': None,\n",
       "   'description': '',\n",
       "   'shape_type': 'rectangle',\n",
       "   'flags': {}},\n",
       "  {'label': 'sinnoh-route-224',\n",
       "   'points': [[322.3856209150327, 149.17320261437908],\n",
       "    [332.0261437908497, 133.81372549019608]],\n",
       "   'group_id': None,\n",
       "   'description': '',\n",
       "   'shape_type': 'rectangle',\n",
       "   'flags': {}}],\n",
       " 'imagePath': 'Sinnoh_mapa_juegos.webp',\n",
       " 'imageData': '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',\n",
       " 'imageHeight': 299,\n",
       " 'imageWidth': 360}"
      ]
     },
     "execution_count": 32,
     "metadata": {},
     "output_type": "execute_result"
    }
   ],
   "source": [
    "f = open(\"sinnoh_json.json\")\n",
    "teselia = True\n",
    "sinnoh = False\n",
    "data = json.load(f)\n",
    "data"
   ]
  },
  {
   "attachments": {},
   "cell_type": "markdown",
   "metadata": {},
   "source": [
    "## Obtain all names"
   ]
  },
  {
   "cell_type": "code",
   "execution_count": 20,
   "metadata": {
    "scrolled": true
   },
   "outputs": [
    {
     "data": {
      "text/plain": [
       "{'accumula-town',\n",
       " 'castelia-city',\n",
       " 'celestial-tower',\n",
       " 'chargestone-cave',\n",
       " 'cold-storage',\n",
       " 'desert-resort',\n",
       " 'dragonspiral-tower',\n",
       " 'dreamyard',\n",
       " 'driftveil-city',\n",
       " 'driftveil-drawbridge',\n",
       " 'icirrus-city',\n",
       " 'liberty-garden',\n",
       " 'lostlorn-forest',\n",
       " 'mistralton-cave',\n",
       " 'mistralton-city',\n",
       " 'moor-of-icirrus',\n",
       " 'nacrene-city',\n",
       " 'nimbasa-city',\n",
       " 'nuvema-town',\n",
       " 'opelucid-city',\n",
       " 'pinwheel-forest',\n",
       " 'relic-castle',\n",
       " 'skyarrow-bridge',\n",
       " 'striaton-city',\n",
       " 'tubeline-bridge',\n",
       " 'twist-mountain',\n",
       " 'unova-route-1',\n",
       " 'unova-route-10',\n",
       " 'unova-route-11',\n",
       " 'unova-route-12',\n",
       " 'unova-route-13',\n",
       " 'unova-route-14',\n",
       " 'unova-route-15',\n",
       " 'unova-route-16',\n",
       " 'unova-route-17',\n",
       " 'unova-route-18',\n",
       " 'unova-route-2',\n",
       " 'unova-route-3',\n",
       " 'unova-route-4',\n",
       " 'unova-route-5',\n",
       " 'unova-route-6',\n",
       " 'unova-route-7',\n",
       " 'unova-route-8',\n",
       " 'unova-route-9',\n",
       " 'wellspring-cave'}"
      ]
     },
     "execution_count": 20,
     "metadata": {},
     "output_type": "execute_result"
    }
   ],
   "source": [
    "lugares = set()\n",
    "for lugar in data[\"shapes\"]:\n",
    "    lugares.add(lugar[\"label\"])\n",
    "lugares"
   ]
  },
  {
   "attachments": {},
   "cell_type": "markdown",
   "metadata": {},
   "source": [
    "## Format routes"
   ]
  },
  {
   "cell_type": "code",
   "execution_count": 21,
   "metadata": {},
   "outputs": [
    {
     "data": {
      "text/plain": [
       "{'twist-mountain'}"
      ]
     },
     "execution_count": 21,
     "metadata": {},
     "output_type": "execute_result"
    }
   ],
   "source": [
    "formateado = set()\n",
    "for res_lugar in res_busqueda[0]:\n",
    "    try:\n",
    "        numero = re.findall(\"\\d+\",res_lugar)[0]\n",
    "        for lugar in lugares:\n",
    "            patron = r\"\\b\" + re.escape(numero) + r\"\\b\"\n",
    "            if lugar in res_lugar and re.search(patron, lugar):\n",
    "                formateado.add(lugar)\n",
    "    except:\n",
    "        for lugar in lugares:\n",
    "            if lugar in res_lugar:\n",
    "                formateado.add(lugar)\n",
    "formateado"
   ]
  },
  {
   "attachments": {},
   "cell_type": "markdown",
   "metadata": {},
   "source": [
    "## Original image"
   ]
  },
  {
   "cell_type": "code",
   "execution_count": 33,
   "metadata": {},
   "outputs": [
    {
     "data": {
      "text/plain": [
       "True"
      ]
     },
     "execution_count": 33,
     "metadata": {},
     "output_type": "execute_result"
    }
   ],
   "source": [
    "imdata = base64.b64decode(data[\"imageData\"])\n",
    "npimg = np.frombuffer(imdata, dtype=np.uint8);\n",
    "im0 = cv2.imdecode(npimg, 1)\n",
    "# cv2.imwrite(r\"sinnoh.png\",im0)\n",
    "# if teselia: \n",
    "#     im0 = cv2.resize(im0,(1280,807))\n",
    "# elif sinnoh:\n",
    "#     im0 = cv2.resize(im0,(360,299))\n",
    "\n",
    "# cv2.imshow('im',im0); cv2.waitKey(0)"
   ]
  },
  {
   "attachments": {},
   "cell_type": "markdown",
   "metadata": {},
   "source": [
    "## Obtain shapes based on search"
   ]
  },
  {
   "cell_type": "code",
   "execution_count": 29,
   "metadata": {},
   "outputs": [
    {
     "data": {
      "text/plain": [
       "True"
      ]
     },
     "execution_count": 29,
     "metadata": {},
     "output_type": "execute_result"
    }
   ],
   "source": [
    "image = im0\n",
    "for i in data[\"shapes\"]:\n",
    "    if i[\"label\"] in formateado:\n",
    "        if teselia:\n",
    "            if \"route\" in i[\"label\"]:\n",
    "                pt = np.array(i[\"points\"], np.int32)\n",
    "                image = cv2.fillPoly(image, [pt], (255,0,0))\n",
    "            else:\n",
    "                radio = abs(i[\"points\"][0][0] - i[\"points\"][1][0]) + abs(i[\"points\"][0][1] - i[\"points\"][1][1])\n",
    "                center = (int(i[\"points\"][0][0]),int(i[\"points\"][0][1]))\n",
    "                image = cv2.circle(image, center, int(radio), (0,255,0), thickness = -1)\n",
    "        elif sinnoh:\n",
    "            pt = diag(i[\"points\"])\n",
    "            pt = np.array(pt, np.int32)\n",
    "            image = cv2.fillPoly(image, [pt], (255,0,0))\n",
    "\n",
    "# cv2.imshow('im',image); cv2.waitKey(0)\n",
    "cv2.imwrite(r\"poly.png\",image)"
   ]
  },
  {
   "cell_type": "code",
   "execution_count": 30,
   "metadata": {},
   "outputs": [],
   "source": [
    "images = []\n",
    "for filename in [\"teselia.png\",\"poly.png\"]:\n",
    "    if \".png\" in filename:\n",
    "        images.append(imageio.imread(filename))"
   ]
  },
  {
   "cell_type": "code",
   "execution_count": 31,
   "metadata": {},
   "outputs": [],
   "source": [
    "imageio.mimsave(uri=\"pruebaGIF.gif\",ims=images,duration = 0.8)"
   ]
  },
  {
   "cell_type": "code",
   "execution_count": 2,
   "metadata": {},
   "outputs": [],
   "source": [
    "def locations(pokemon, juego):\n",
    "    resp = r.get(f\"https://pokeapi.co/api/v2/pokemon/{pokemon}/\")\n",
    "    json_res = json.loads(resp.content)\n",
    "    url_encounters = json_res[\"location_area_encounters\"]\n",
    "    res = r.get(url_encounters)\n",
    "    encounters = json.loads(res.content)\n",
    "    ###\n",
    "    results = []\n",
    "    minlevel = []\n",
    "    maxlevel = []\n",
    "    method = []\n",
    "    chance = []\n",
    "    for i in encounters:\n",
    "        for x in i[\"version_details\"]:\n",
    "            version = x[\"version\"][\"name\"]\n",
    "            if version == juego:\n",
    "                results.append(i[\"location_area\"][\"name\"])\n",
    "                minim, maxim = 100,0\n",
    "                for w in x[\"encounter_details\"]:\n",
    "                    if w[\"min_level\"] < minim: minim = w[\"min_level\"]\n",
    "                    if w[\"max_level\"] > maxim: maxim = w[\"max_level\"]\n",
    "                minlevel.append(minim)\n",
    "                maxlevel.append(maxim)\n",
    "                chance.append(x[\"encounter_details\"][0][\"chance\"])\n",
    "                method.append(x[\"encounter_details\"][0][\"method\"][\"name\"])\n",
    "    return results, minlevel, maxlevel, method, chance"
   ]
  },
  {
   "cell_type": "code",
   "execution_count": 3,
   "metadata": {},
   "outputs": [],
   "source": [
    "def diag(punto):\n",
    "    res = []\n",
    "    res.append(punto[0])\n",
    "    res.append([punto[0][0],punto[1][1]])\n",
    "    res.append(punto[1])\n",
    "    res.append([punto[1][0],punto[0][1]])\n",
    "    return res"
   ]
  },
  {
   "cell_type": "code",
   "execution_count": 12,
   "metadata": {},
   "outputs": [],
   "source": [
    "def maps(pokemon, juego):\n",
    "    juegos = {\"black\":\"teselia\",\"white\":\"teselia\",\"white-2\":\"teselia\", \"black-2\":\"teselia\",\"pearl\":\"sinnoh\",\n",
    "             \"diamond\":\"sinnoh\",\"platinum\":\"sinnoh\"}\n",
    "    region = juegos[juego]\n",
    "    \n",
    "    res_busqueda, minlevel, maxlevel, method, chance = locations(pokemon, juego)\n",
    "\n",
    "    if len(res_busqueda) == 0:\n",
    "        return \"not found\"\n",
    "    \n",
    "    sinnoh, teselia = False, False\n",
    "    if region == \"teselia\":\n",
    "        teselia = True\n",
    "    elif region == \"sinnoh\":\n",
    "        sinnoh = True\n",
    "    f = open(f\"maps/{region}_json.json\")\n",
    "    data = json.load(f)\n",
    "    \n",
    "    lugares = set()\n",
    "    for lugar in data[\"shapes\"]:\n",
    "        lugares.add(lugar[\"label\"])\n",
    "    \n",
    "    formateado = set()\n",
    "    for res_lugar in res_busqueda:\n",
    "        try:\n",
    "            numero = re.findall(\"\\d+\",res_lugar)\n",
    "            for lugar in lugares:\n",
    "                patron = r\"\\b\" + re.escape(numero) + r\"\\b\"\n",
    "                if lugar in res_lugar and re.search(patron, lugar):\n",
    "                    formateado.add(lugar)\n",
    "        except:\n",
    "            for lugar in lugares:\n",
    "                if lugar in res_lugar:\n",
    "                    formateado.add(lugar)\n",
    "\n",
    "    imdata = base64.b64decode(data[\"imageData\"])\n",
    "    npimg = np.frombuffer(imdata, dtype=np.uint8);\n",
    "    im0 = cv2.imdecode(npimg, 1)\n",
    "    \n",
    "    image = im0\n",
    "    for i in data[\"shapes\"]:\n",
    "        if i[\"label\"] in formateado:\n",
    "            if teselia:\n",
    "                if \"route\" in i[\"label\"]:\n",
    "                    pt = np.array(i[\"points\"], np.int32)\n",
    "                    image = cv2.fillPoly(image, [pt], (255,0,0))\n",
    "                elif \"bridge\" in i[\"label\"]:\n",
    "                    pt = diag(i[\"points\"])\n",
    "                    pt = np.array(pt, np.int32)\n",
    "                    image = cv2.fillPoly(image, [pt], (255,0,0))\n",
    "                else:\n",
    "                    radio = abs(i[\"points\"][0][0] - i[\"points\"][1][0]) + abs(i[\"points\"][0][1] - i[\"points\"][1][1])\n",
    "                    center = (int(i[\"points\"][0][0]),int(i[\"points\"][0][1]))\n",
    "                    image = cv2.circle(image, center, int(radio), (0,0,255), thickness = 3)\n",
    "            elif sinnoh:\n",
    "                pt = diag(i[\"points\"])\n",
    "                pt = np.array(pt, np.int32)\n",
    "                image = cv2.fillPoly(image, [pt], (255,0,0))\n",
    "\n",
    "    cv2.imwrite(r\"empty_maps/poly.png\",image)\n",
    "    \n",
    "    images = []\n",
    "    for filename in [f\"empty_maps/{region}.png\",\"empty_maps/poly.png\"]:\n",
    "        if \".png\" in filename:\n",
    "            images.append(imageio.imread(filename))\n",
    "            \n",
    "    imageio.mimsave(uri=\"gif/pruebaGIF.gif\",ims=images,duration = 0.8)"
   ]
  },
  {
   "cell_type": "code",
   "execution_count": 13,
   "metadata": {},
   "outputs": [],
   "source": [
    "maps(\"deerling\",\"white\")"
   ]
  },
  {
   "cell_type": "code",
   "execution_count": 59,
   "metadata": {},
   "outputs": [
    {
     "data": {
      "text/plain": [
       "(['dragonspiral-tower-entrance',\n",
       "  'dragonspiral-tower-outside',\n",
       "  'unova-route-6-area',\n",
       "  'unova-route-7-area'],\n",
       " [30, 30, 22, 26],\n",
       " [32, 32, 28, 30],\n",
       " ['walk', 'walk', 'walk', 'walk'],\n",
       " [20, 20, 20, 20])"
      ]
     },
     "execution_count": 59,
     "metadata": {},
     "output_type": "execute_result"
    }
   ],
   "source": [
    "locations(\"deerling\",\"black\")"
   ]
  },
  {
   "cell_type": "code",
   "execution_count": 92,
   "metadata": {},
   "outputs": [],
   "source": [
    "from bs4 import BeautifulSoup as bs4"
   ]
  },
  {
   "cell_type": "code",
   "execution_count": 97,
   "metadata": {},
   "outputs": [],
   "source": [
    "url = \"https://play.pokemonshowdown.com/audio/cries/\"\n",
    "response = r.get(url)\n",
    "sopa = bs4(response.text)"
   ]
  },
  {
   "cell_type": "code",
   "execution_count": 107,
   "metadata": {},
   "outputs": [],
   "source": [
    "pok = \"oshawott\"\n",
    "resp = r.get(f\"https://play.pokemonshowdown.com/audio/cries/{pok}.mp3\")"
   ]
  },
  {
   "cell_type": "code",
   "execution_count": 111,
   "metadata": {},
   "outputs": [],
   "source": [
    "from playsound import playsound"
   ]
  },
  {
   "cell_type": "code",
   "execution_count": 115,
   "metadata": {},
   "outputs": [
    {
     "name": "stdout",
     "output_type": "stream",
     "text": [
      "Collecting pydub\n",
      "  Downloading pydub-0.25.1-py2.py3-none-any.whl (32 kB)\n",
      "Installing collected packages: pydub\n",
      "Successfully installed pydub-0.25.1\n"
     ]
    }
   ],
   "source": [
    "!pip install pydub"
   ]
  },
  {
   "cell_type": "code",
   "execution_count": 131,
   "metadata": {
    "scrolled": true
   },
   "outputs": [
    {
     "data": {
      "text/plain": [
       "'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'"
      ]
     },
     "execution_count": 131,
     "metadata": {},
     "output_type": "execute_result"
    }
   ],
   "source": [
    "resp.content.hex()"
   ]
  },
  {
   "cell_type": "code",
   "execution_count": 134,
   "metadata": {
    "scrolled": true
   },
   "outputs": [
    {
     "ename": "FileNotFoundError",
     "evalue": "[WinError 2] El sistema no puede encontrar el archivo especificado",
     "output_type": "error",
     "traceback": [
      "\u001b[1;31m---------------------------------------------------------------------------\u001b[0m",
      "\u001b[1;31mFileNotFoundError\u001b[0m                         Traceback (most recent call last)",
      "\u001b[1;32m<ipython-input-134-96bdba803e32>\u001b[0m in \u001b[0;36m<module>\u001b[1;34m\u001b[0m\n\u001b[0;32m      5\u001b[0m \u001b[1;31m# data = open('filename.mp3', 'rb').read()\u001b[0m\u001b[1;33m\u001b[0m\u001b[1;33m\u001b[0m\u001b[1;33m\u001b[0m\u001b[0m\n\u001b[0;32m      6\u001b[0m \u001b[1;33m\u001b[0m\u001b[0m\n\u001b[1;32m----> 7\u001b[1;33m \u001b[0msong\u001b[0m \u001b[1;33m=\u001b[0m \u001b[0mAudioSegment\u001b[0m\u001b[1;33m.\u001b[0m\u001b[0mfrom_file\u001b[0m\u001b[1;33m(\u001b[0m\u001b[0mio\u001b[0m\u001b[1;33m.\u001b[0m\u001b[0mBytesIO\u001b[0m\u001b[1;33m(\u001b[0m\u001b[0mresp\u001b[0m\u001b[1;33m.\u001b[0m\u001b[0mcontent\u001b[0m\u001b[1;33m)\u001b[0m\u001b[1;33m,\u001b[0m \u001b[0mformat\u001b[0m\u001b[1;33m=\u001b[0m\u001b[1;34m\"mp3\"\u001b[0m\u001b[1;33m)\u001b[0m\u001b[1;33m\u001b[0m\u001b[1;33m\u001b[0m\u001b[0m\n\u001b[0m\u001b[0;32m      8\u001b[0m \u001b[0mplay\u001b[0m\u001b[1;33m(\u001b[0m\u001b[0msong\u001b[0m\u001b[1;33m)\u001b[0m\u001b[1;33m\u001b[0m\u001b[1;33m\u001b[0m\u001b[0m\n",
      "\u001b[1;32mD:\\Users\\Lucas\\Proyectos Python\\anaconda\\lib\\site-packages\\pydub\\audio_segment.py\u001b[0m in \u001b[0;36mfrom_file\u001b[1;34m(cls, file, format, codec, parameters, start_second, duration, **kwargs)\u001b[0m\n\u001b[0;32m    726\u001b[0m             \u001b[0minfo\u001b[0m \u001b[1;33m=\u001b[0m \u001b[1;32mNone\u001b[0m\u001b[1;33m\u001b[0m\u001b[1;33m\u001b[0m\u001b[0m\n\u001b[0;32m    727\u001b[0m         \u001b[1;32melse\u001b[0m\u001b[1;33m:\u001b[0m\u001b[1;33m\u001b[0m\u001b[1;33m\u001b[0m\u001b[0m\n\u001b[1;32m--> 728\u001b[1;33m             \u001b[0minfo\u001b[0m \u001b[1;33m=\u001b[0m \u001b[0mmediainfo_json\u001b[0m\u001b[1;33m(\u001b[0m\u001b[0morig_file\u001b[0m\u001b[1;33m,\u001b[0m \u001b[0mread_ahead_limit\u001b[0m\u001b[1;33m=\u001b[0m\u001b[0mread_ahead_limit\u001b[0m\u001b[1;33m)\u001b[0m\u001b[1;33m\u001b[0m\u001b[1;33m\u001b[0m\u001b[0m\n\u001b[0m\u001b[0;32m    729\u001b[0m         \u001b[1;32mif\u001b[0m \u001b[0minfo\u001b[0m\u001b[1;33m:\u001b[0m\u001b[1;33m\u001b[0m\u001b[1;33m\u001b[0m\u001b[0m\n\u001b[0;32m    730\u001b[0m             audio_streams = [x for x in info['streams']\n",
      "\u001b[1;32mD:\\Users\\Lucas\\Proyectos Python\\anaconda\\lib\\site-packages\\pydub\\utils.py\u001b[0m in \u001b[0;36mmediainfo_json\u001b[1;34m(filepath, read_ahead_limit)\u001b[0m\n\u001b[0;32m    272\u001b[0m \u001b[1;33m\u001b[0m\u001b[0m\n\u001b[0;32m    273\u001b[0m     \u001b[0mcommand\u001b[0m \u001b[1;33m=\u001b[0m \u001b[1;33m[\u001b[0m\u001b[0mprober\u001b[0m\u001b[1;33m,\u001b[0m \u001b[1;34m'-of'\u001b[0m\u001b[1;33m,\u001b[0m \u001b[1;34m'json'\u001b[0m\u001b[1;33m]\u001b[0m \u001b[1;33m+\u001b[0m \u001b[0mcommand_args\u001b[0m\u001b[1;33m\u001b[0m\u001b[1;33m\u001b[0m\u001b[0m\n\u001b[1;32m--> 274\u001b[1;33m     \u001b[0mres\u001b[0m \u001b[1;33m=\u001b[0m \u001b[0mPopen\u001b[0m\u001b[1;33m(\u001b[0m\u001b[0mcommand\u001b[0m\u001b[1;33m,\u001b[0m \u001b[0mstdin\u001b[0m\u001b[1;33m=\u001b[0m\u001b[0mstdin_parameter\u001b[0m\u001b[1;33m,\u001b[0m \u001b[0mstdout\u001b[0m\u001b[1;33m=\u001b[0m\u001b[0mPIPE\u001b[0m\u001b[1;33m,\u001b[0m \u001b[0mstderr\u001b[0m\u001b[1;33m=\u001b[0m\u001b[0mPIPE\u001b[0m\u001b[1;33m)\u001b[0m\u001b[1;33m\u001b[0m\u001b[1;33m\u001b[0m\u001b[0m\n\u001b[0m\u001b[0;32m    275\u001b[0m     \u001b[0moutput\u001b[0m\u001b[1;33m,\u001b[0m \u001b[0mstderr\u001b[0m \u001b[1;33m=\u001b[0m \u001b[0mres\u001b[0m\u001b[1;33m.\u001b[0m\u001b[0mcommunicate\u001b[0m\u001b[1;33m(\u001b[0m\u001b[0minput\u001b[0m\u001b[1;33m=\u001b[0m\u001b[0mstdin_data\u001b[0m\u001b[1;33m)\u001b[0m\u001b[1;33m\u001b[0m\u001b[1;33m\u001b[0m\u001b[0m\n\u001b[0;32m    276\u001b[0m     \u001b[0moutput\u001b[0m \u001b[1;33m=\u001b[0m \u001b[0moutput\u001b[0m\u001b[1;33m.\u001b[0m\u001b[0mdecode\u001b[0m\u001b[1;33m(\u001b[0m\u001b[1;34m\"utf-8\"\u001b[0m\u001b[1;33m,\u001b[0m \u001b[1;34m'ignore'\u001b[0m\u001b[1;33m)\u001b[0m\u001b[1;33m\u001b[0m\u001b[1;33m\u001b[0m\u001b[0m\n",
      "\u001b[1;32mD:\\Users\\Lucas\\Proyectos Python\\anaconda\\lib\\subprocess.py\u001b[0m in \u001b[0;36m__init__\u001b[1;34m(self, args, bufsize, executable, stdin, stdout, stderr, preexec_fn, close_fds, shell, cwd, env, universal_newlines, startupinfo, creationflags, restore_signals, start_new_session, pass_fds, encoding, errors, text)\u001b[0m\n\u001b[0;32m    852\u001b[0m                             encoding=encoding, errors=errors)\n\u001b[0;32m    853\u001b[0m \u001b[1;33m\u001b[0m\u001b[0m\n\u001b[1;32m--> 854\u001b[1;33m             self._execute_child(args, executable, preexec_fn, close_fds,\n\u001b[0m\u001b[0;32m    855\u001b[0m                                 \u001b[0mpass_fds\u001b[0m\u001b[1;33m,\u001b[0m \u001b[0mcwd\u001b[0m\u001b[1;33m,\u001b[0m \u001b[0menv\u001b[0m\u001b[1;33m,\u001b[0m\u001b[1;33m\u001b[0m\u001b[1;33m\u001b[0m\u001b[0m\n\u001b[0;32m    856\u001b[0m                                 \u001b[0mstartupinfo\u001b[0m\u001b[1;33m,\u001b[0m \u001b[0mcreationflags\u001b[0m\u001b[1;33m,\u001b[0m \u001b[0mshell\u001b[0m\u001b[1;33m,\u001b[0m\u001b[1;33m\u001b[0m\u001b[1;33m\u001b[0m\u001b[0m\n",
      "\u001b[1;32mD:\\Users\\Lucas\\Proyectos Python\\anaconda\\lib\\subprocess.py\u001b[0m in \u001b[0;36m_execute_child\u001b[1;34m(self, args, executable, preexec_fn, close_fds, pass_fds, cwd, env, startupinfo, creationflags, shell, p2cread, p2cwrite, c2pread, c2pwrite, errread, errwrite, unused_restore_signals, unused_start_new_session)\u001b[0m\n\u001b[0;32m   1305\u001b[0m             \u001b[1;31m# Start the process\u001b[0m\u001b[1;33m\u001b[0m\u001b[1;33m\u001b[0m\u001b[1;33m\u001b[0m\u001b[0m\n\u001b[0;32m   1306\u001b[0m             \u001b[1;32mtry\u001b[0m\u001b[1;33m:\u001b[0m\u001b[1;33m\u001b[0m\u001b[1;33m\u001b[0m\u001b[0m\n\u001b[1;32m-> 1307\u001b[1;33m                 hp, ht, pid, tid = _winapi.CreateProcess(executable, args,\n\u001b[0m\u001b[0;32m   1308\u001b[0m                                          \u001b[1;31m# no special security\u001b[0m\u001b[1;33m\u001b[0m\u001b[1;33m\u001b[0m\u001b[1;33m\u001b[0m\u001b[0m\n\u001b[0;32m   1309\u001b[0m                                          \u001b[1;32mNone\u001b[0m\u001b[1;33m,\u001b[0m \u001b[1;32mNone\u001b[0m\u001b[1;33m,\u001b[0m\u001b[1;33m\u001b[0m\u001b[1;33m\u001b[0m\u001b[0m\n",
      "\u001b[1;31mFileNotFoundError\u001b[0m: [WinError 2] El sistema no puede encontrar el archivo especificado"
     ]
    }
   ],
   "source": [
    "from pydub import AudioSegment\n",
    "from pydub.playback import play\n",
    "import io\n",
    "\n",
    "# data = open('filename.mp3', 'rb').read()\n",
    "\n",
    "song = AudioSegment.from_file(io.BytesIO(resp.content), format=\"mp3\")\n",
    "play(song)"
   ]
  },
  {
   "cell_type": "code",
   "execution_count": 128,
   "metadata": {},
   "outputs": [
    {
     "ename": "AttributeError",
     "evalue": "'bytes' object has no attribute 'write_to_fp'",
     "output_type": "error",
     "traceback": [
      "\u001b[1;31m---------------------------------------------------------------------------\u001b[0m",
      "\u001b[1;31mAttributeError\u001b[0m                            Traceback (most recent call last)",
      "\u001b[1;32m<ipython-input-128-ff2cf155e4c3>\u001b[0m in \u001b[0;36m<module>\u001b[1;34m\u001b[0m\n\u001b[0;32m      1\u001b[0m \u001b[0mfp\u001b[0m \u001b[1;33m=\u001b[0m \u001b[0mio\u001b[0m\u001b[1;33m.\u001b[0m\u001b[0mBytesIO\u001b[0m\u001b[1;33m(\u001b[0m\u001b[1;33m)\u001b[0m\u001b[1;33m\u001b[0m\u001b[1;33m\u001b[0m\u001b[0m\n\u001b[1;32m----> 2\u001b[1;33m \u001b[0mresp\u001b[0m\u001b[1;33m.\u001b[0m\u001b[0mcontent\u001b[0m\u001b[1;33m.\u001b[0m\u001b[0mwrite_to_fp\u001b[0m\u001b[1;33m(\u001b[0m\u001b[0mfp\u001b[0m\u001b[1;33m)\u001b[0m\u001b[1;33m\u001b[0m\u001b[1;33m\u001b[0m\u001b[0m\n\u001b[0m\u001b[0;32m      3\u001b[0m \u001b[0mfp\u001b[0m\u001b[1;33m.\u001b[0m\u001b[0mseek\u001b[0m\u001b[1;33m(\u001b[0m\u001b[1;36m0\u001b[0m\u001b[1;33m)\u001b[0m\u001b[1;33m\u001b[0m\u001b[1;33m\u001b[0m\u001b[0m\n",
      "\u001b[1;31mAttributeError\u001b[0m: 'bytes' object has no attribute 'write_to_fp'"
     ]
    }
   ],
   "source": [
    "fp = io.BytesIO()\n",
    "resp.content.write_to_fp(fp)\n",
    "fp.seek(0)"
   ]
  },
  {
   "cell_type": "code",
   "execution_count": 123,
   "metadata": {
    "scrolled": true
   },
   "outputs": [
    {
     "data": {
      "text/plain": [
       "b'\\xff\\xfb\\x94\\xc4\\x00\\x00\\x00\\x00\\x00\\x00\\x00\\x00\\x00\\x00\\x00\\x00\\x00\\x00\\x00\\x00\\x00Xing\\x00\\x00\\x00\\x0f\\x00\\x00\\x00\\x18\\x00\\x00\\x13 \\x00    3333AAAAJJJJ[[[[ddddlllllssss\\x84\\x84\\x84\\x84\\x91\\x91\\x91\\x91\\x9c\\x9c\\x9c\\x9c\\xa7\\xa7\\xa7\\xa7\\xb2\\xb2\\xb2\\xb2\\xb2\\xbd\\xbd\\xbd\\xbd\\xc8\\xc8\\xc8\\xc8\\xce\\xce\\xce\\xce\\xd7\\xd7\\xd7\\xd7\\xdd\\xdd\\xdd\\xdd\\xe4\\xe4\\xe4\\xe4\\xe4\\xea\\xea\\xea\\xea\\xef\\xef\\xef\\xef\\xf5\\xf5\\xf5\\xf5\\xfa\\xfa\\xfa\\xfa\\xff\\xff\\xff\\xff\\x00\\x00\\x00\\x1eLAME3.100\\x04\\x9c\\x00\\x00\\x00\\x00\\x00\\x00\\x00\\x00\\x15 $\\x03\\xe3\\x81\\x00\\x01\\xae\\x00\\x00\\x13 y\\x05y/\\x00\\x00\\x00\\x00\\x00\\x00\\x00\\x00\\x00\\x00\\x00\\x00\\x00\\x00\\x00\\x00\\x00\\x00\\x00\\x00\\x00\\x00\\x00\\x00\\x00\\x00\\x00\\x00\\x00\\x00\\x00\\x00\\x00\\x00\\x00\\x00\\x00\\x00\\x00\\x00\\x00\\x00\\x00\\x00\\x00\\x00\\x00\\x00\\x00\\x00\\x00\\x00\\x00\\x00\\x00\\x00\\x00\\x00\\x00\\x00\\x00\\x00\\x00\\x00\\x00\\x00\\x00\\x00\\x00\\x00\\x00\\x00\\x00\\x00\\x00\\x00\\x00\\x00\\x00\\x00\\x00\\x00\\x00\\x00\\x00\\x00\\x00\\x00\\x00\\x00\\x00\\x00\\x00\\x00\\x00\\x00\\x00\\x00\\x00\\x00\\x00\\x00\\x00\\x00\\x00\\x00\\x00\\x00\\x00\\x00\\x00\\x00\\x00\\x00\\x00\\x00\\x00\\x00\\x00\\x00\\x00\\x00\\x00\\x00\\x00\\x00\\x00\\x00\\x00\\x00\\x00\\x00\\x00\\x00\\x00\\x00\\x00\\x00\\x00\\x00\\x00\\x00\\x00\\x00\\x00\\x00\\x00\\x00\\x00\\x00\\x00\\x00\\x00\\x00\\x00\\x00\\x00\\x00\\x00\\x00\\x00\\x00\\x00\\x00\\x00\\x00\\x00\\x00\\x00\\x00\\x00\\x00\\x00\\x00\\x00\\x00\\x00\\x00\\x00\\x00\\x00\\x00\\x00\\x00\\x00\\x00\\x00\\x00\\x00\\x00\\x00\\x00\\x00\\x00\\x00\\x00\\x00\\x00\\x00\\x00\\x00\\x00\\x00\\x00\\x00\\x00\\x00\\xff\\xfb\\xb4\\xc4\\x00\\x00\\x00\\x00\\x01\\xfe\\x14\\x00\\x00!G\\x1c\\xaa\\xbf#@\\x00`\\x80\\t\\x00p\\t\\x00\\x80\\x04\\x02\\x81\\x80`\\x00\\x00\\x01\\xb9HS|\\x058#\\xfeAC\\xd7\\xf0\\n\\x88\\x06$\\xbf\\xe0X\\x18\\x08\\x10\\x03\\x91\\xfe\\x02\\x82\\xc1`b\\xc9\\xff\\xc0(X\\n\\x13\\x0e\\x80X\\x06\\x07\\xff\\x8e2\\x08@\\x86T=p\\xc6\\x7f\\xff\\x94\\n\\x83\\xc1\\\\\\xb8\\\\1\\xff\\xffL\\xdd\\xa7\\'\\x01 \\x05G#\\x00\\x00iF\\xaa\\xf6@\\x00\\x01\\xe1,\\x0c\\xee\\x0c\\xb36@\\xf88\\x05\\xdck\\x8f =\\xdeLf\\xc6\\xc9\\xdc\\x12\\x81\\xd2p\\x88\\xf8y\\x82\\xc7E\\n\\\\\\xd1\\x04Z{\\x0cvK\\xc8\\xceQAKj?s\\xd0}V\\xec\\xce,\\xaafSrT\\xfb;\\x96a\\xd4\\xe9XX\\x8c?iM\\x9b\\x96\\xaa\\xd0\\xbfN$*\\x96\\xd53^fQ\\xf9Lg\\x8f\\xab\\xfb{,5\\x85\\xd8\\xfc\\x92\\xad\\x15=k7c8\\xdb\\xa5\\x94\\xca\\xe4q\\x88\\x1e\\x9eY(\\xad_\\xbd\\xe6\\x7f\\xcc\\xb0\\xb5W\\x9c\\xfe\\xe1[\\xc4\\xf0\\x12@\\x8c\\xc0\\xd4\\\\\\tDP\\x88No\\xc9\\xec\\xe0\\x0e\\xab,\\xe8\\xc3\\xd9p\\x80f@\\xb5\\xd3\\x1a\\x1710_vD.(y|>\\xa1\\x80P5\\xcc\\xf7<\\xa1\\x13\\x80\\xa0\\x06\\xa6\\x86\\x0c\\r\\x88 \\xfd\\xa4>\\x96\\xa4\\x03;~\\x07\\x82\\xe5\\xbd\\x0eLgq\\x8aJIb\\xec{\\'\\xa9)\\x9c\\xc6/\\x1c\\x80\\x9a|\\x1e\\xe2K/\\xc3\\x95\\xe1\\x11\\x882\\x92M\\x9c9=9cZ\\xa5\\x98b\\x0c\\xc9\\x92Uk\\xed\\x120\\x87 \\xe2\\xbf1\\xa9K\\xeb\\x0e\\xe5^\\xfe2\\x1c\\x92\\xb2%K\\x0f\\xbb\\x97\\xaf\\xd5E\\x17\\x01\\xca\\x8bV\\xd5\\xb9l\\xbb\\x1e\\xdc\\xd7u\\x9d\\xa9ek2\\xf9\\x05\\xdbv>\\xae\\xf1\\xc7W%\\xd4\\xd4\\xa5J\\x98`\\x05\\x00\\x10\\x00\\x00\\x00\\x1e\\x18\\x02P\\x00C\\x82\\xa5\\x80\\x10\\xfe\\xa2\\x10Y\\xc0@\\x8c\\x8c\\x9c\\x0c\\x1f\\x1e\\x8cec\\t0\\xab\\x98\\xc1\\xc0\\xf8\\x81\\x94Lz\\xa8 \\x99\\xa6R8tP\\x06\\x03\\x0f0\\xc1\\xe3\\xca\\xec\\xa6G\\xadHRN\\x98\\x80\\xa1\\xc4\\xc5\\x98\\xc3A\\xc5\\x07\\x86\\x0e}Suc\\x90\\xbd?{\\xff\\xff\\xfcb \\x10g\\xff\\x93\\x1emy\\xed\\xc3\\x14 \\x98\\x00\\x97\\x80<h\\x869\\x10\\n\\xe2HRDZ>\\x00\\x92\\xb98\\xa8qE)\\x03_\\xd1\\x01\\xc0\\x88mz\\x03\\x83O8\\xd2*#\\x8d\\xff\\xf3\\xfd\\x1a\\xa2TR\\x12\\xfb\\xff\\xfb\\x84\\xc4\\xec\\x80\\x12x\\xe9u\\xf9\\x9c\\x02J\\xb6\\xa2\\xaf?1\\x82@\\xbb\\xffg\\x10\\x11ykD\\xad\\x94H\\xc9\\xd4[\\xd54\\x91\\x9fJ/\\xff\\x01\\x0b~\\x8a\\xcb\\x844#!\\x00\\x00\\x0e^\\t\\x05\\x81Z\\xe2\\xf2\\x18HO:B3,\\xad\\xadV\\xadZ\\xb9p\\x11:\\\\\\xfc\\'*n\\xc1\\xf1M\\xa6\\x95\\x19Y\\x82\\xe4\\x8f\\xb8\\xa7\\xa9*\\xf1\\x80,\\x05\\x85F\\x8e\\x94\\xbe\\xb2G\\x1c\\xcc\\xd0\\xd7\\xfcO5\\xff\\xc3)\\xb9\\xd0\\xec\\xb0\\x8a\\xffW\\xf5?\\x82\\xb0\\x88f\\x8a\\xa0 \\x00K\\xfe\\x00 \\x1d\\x98\\x8f%R(\\x82\\xd4\\'F\\xd4:\\x8dlK\\x9a+\\t\\x0fg*\\x87T:Q\\x002\\x0f\\x15\\xd8\\xcfI\\x84J\\xdf\\xa8\\xd0\\xeb\\x19J\\x8f\\xd4\\xa9dW\\xf9EEO\\xe2\\x85\\xf8. \\xa9i4\\x99\\xae\\xc5\\xd8\\x82\\xb3o\\x8b\\x0b\\xa2\\xba\\xaeU{\\x96\\xa7hUA`%4\\x91\\x88\\x84\\xc1\\xd0\\x08\\x00\\x13\"\\x9b\\x1a@\\xb7Jn(+\\xfa$S\\xf9\\x04\\x9b\\'\\xc5\\xdd\\x08\\x02L\\t\\x14\\xd1\\x07\\x19\\xc9\\x87\\xd4t\\xb3|\\x99\\x14a\\xdc\\x9f\\x81\\xec\\x1bP\\t\\xcc\\xa6.\\xdc\\x0f~7\\x03\\xd4\\x1c\\x01J\\x9f\\xea\\x1c\\xb2\\xfd\\xe1g+\\x0f\\xc2\\xbce\\x8d\\xe0\\x088\\x13\\xff\\xff\\xfe?\\x17\\x93\\xd8\\xb7m^CD\\xa3\\x0b!#{?_\\xff\\xff\\x86\\x1d\\xff\\xef\\x82\\x9b@\\x02\\x1c\\xc5\\x82\\x03\\x18\\x98L\\xd7\\xff\\xff\\xff\\xff\\xfbd\\xc4\\xe9\\x00\\x8cE\\x19w\\xfc\\x92\\x80)5\\x94/|\\xc4\\x19\\xa4\\xff<\\xf9\\xfd\\xff\\xeb\\xa0\\xc8\\x9a<Y\\xc4]\\xf1\\x06\\xff\\xff(+\\xb9\\xf7\\x88*\\x00\\x11\\x02\\x11\\x9cC\\xf1\\xa6\\xe4\\xd9\\x84I1\\xb9U\\x1c\\xc7\\x15\\xdb\\xc1\\xf6t\\xa9\\xb2\\xb5\\x95M\\xa7\\x0e\\x81(&5Ri9\\xd7-k[\\x1f\\xff\\x16\\xe6\\xecA\\x8c\\xee\\xef\\xffw\\xc5\\xa9\\r\\xf8\\xeab\\xad\\x85&\\xe3\\xb0\\x9cL+q\\xc4\\xddG\\xd3]\\x94rO\\xdf;?\\xff\\xff\\xfa\\xa8\\x8ay\\xb9\\xbb\\x90f\\xce?\\xdf7\\x0c>|@0\\xe7!ha\\xd8l\\xa5W@M\\xf7m\\xae#\\xaa\\xc7A\\x0eE\\x16\\x81\\x94\\xe1\\xc5\\x8cG%s`+=\\xc0\"\\xd1\\xf8QF\\xa4F\\xc4?\\x935\\x91\\xcf\\x95\\xb9\\xe5MEQ\\xb0d\\xa12)\\x05uk\\xad\\x97\\x99\\xf9\\xbe\\x8eU\\n\\x19\\tJ\\x81N\\x96\\x15X+\\xff\\x82\\xae\\xfcD\\xd2\\xd0\\x82pD\\x82\\x00\\x02\\xd2N\\x01\\x948\\xc6BU\\xb1\\\\\\xa0\\xff\\xfbD\\xc4\\xfe\\x80\\n,\\xbbw\\xe6\\x05\\x16!@\\x14\\xad~\\x98P\\x05\\x10\\xf0>*\\xde\\xb8\\x17\\xb9\\xef<\\x8a7\\xcb\\x12!\\xc8x\\x92\\x8ca\\x89\\x02\\x7f\\x82\\x005\\xb59\\xff\\x85d6\\xe6\\xe9\\xa5L\\xff\\xff\\xab\\xfdu\\xd6\\xacc*\\'\\xff\\xd8\\x9chj\\x19\\xc5~\\xf1\\xe8X:\\xb5PC \\x00\\x036\\xdb\\x80\\x16\\x13\\x04\\xab\\x90\\xafPT\\xf8\\xfb\\x97.\\xb9\\xcb,Q)\\xcf~6\\rD\\x94\\xad[\\xd7.5^\\xdd\\xd6R\\xa5@\\xac\\x90h\\xbc.\\xea\\x105\\xb3\\xe6H8\\xd9+Yg\\x0fX\\x9dC\\xeeu$\\xb0<\\x11\\x80\\x02/\\xd8\\x00BG\\xeb\\x0b+R\\xdcS\\xf0\\xdd\\x9d5f\\xd9\\x95\\xff\\xfbt\\xc4\\xf7\\x00\\x12\\\\\\xf1_\\xf9\\x9c\\x90\\x01\\x9f\\xa3n\\xbf\\xb0\\xb0\\x04of\\x8c\\x18\\xff\\xe3\\x06\\x13\\xf5Q\\x88\\x94\\xb3\\x01\\x90P\\x0c_\\xea.\\xffCs\\xfa2\\xfc\\x8a 8\\xe0\\x02\\xe8\\x92\\xfb;m\\xd5\\xab\\x84ZQC\\x10\\x8c\\xb7\\x00\\x00\\xbcJ\\x0f\\xc4\\x1c\\x05\\r\\x01\\x86I\\x88\\x9eB\\x19A\\x0c\\x01N\\xf8b\\xbbn\\xc8b\\xedC\\xb8\\t\\xbe\\xa4\\n\\xa7\\x8dVd\\x8c\\x9f\\xa9\\x8b\\x93\\xe2\\x13OL\\xc3*\\xb9\\x82\\x08\\xab2\\x01\\xa7O\\xa40\\xd0\\x9c\\x1f%h\\x9b\\x16>\\x8dg\\xa8\\x12|C\\xb9\\x96Q&n\\x83\\xe6rf\\xbd6,c\\xd0\\xf3\\x9f]\\xfd\\xcc\\xf7\\xd2\\xb5,\\x16\\ry\\x1d\\xcaX\\x93\\x86\\x14\\x05\\x000\\x063\\x91&E\\xa1 \\x00\\x02y\\x87X\\x86\\xe7E\\x02[\\xe7\\xfa\"gHq\\x93\\xf5\\xd3\\x90\\x17\\x9c\\x1d9J<\\xb2D\\x951\\x86\\x8dBc\\x07PP\\xe8T\\\\\\xb9r\\x01\\x98\\t\\x0b`\\x05\\x00d\\xee)\\x85\\x07E\\x00\\x04\\x00nJ\\xf2\\x1aw)\\xfd\\xf8\\xb2\\xefN\\xac8\\xd0D\\x13\\xb2s\\x12.\\x92\\x9a\\x89aY%\\x0c\\xaf94\\xffS\\xcd\\x14\\x10\\xbd\\t\\x89X\\xff2\\xd2\\xd8\\xc0R\\xe7\\xeb{\\xd75\\xff\\xfbD\\xc4\\xff\\x00\\t\\xcc\\xa5y\\xec$K\\xe1-\\x1f-<\\xf1\\x0e\\xb5\\xff\\xebR\\xbd\\x99\\x88rOU\\xf8nR\\\\\\x05\\x83A3\\x9f\\xcf\\xff\\xff\\xfbx\\xdb\\xd5\\xbdX\\xb7g\\x1c3\\xca\\xe8o\\xfav\\xff\\xdd)\\x01\\x00\\x00\\x00\\x045\\x08\\xda\\x82\\xc1q\\x8d\\xea\\x14\\xd2)}\\xdb\\x8d\\xb8\\x10\\xc3\\x91zW\\x0f\\xdf\\xfb\\x98|9\\x90\\xe3\\x8dP\\x912\\xd0\\xf5C\\xcc\\xf95}\\xfb\\xff\\xe9\\xad\\xd1\\xbd\\xd3\\x1c|<\\x99\\xbd\\x0fsgl\\xcb\\x1d\\xae\\xafQ\\xde_\\xf5\\xb8\\xb3\\xca\\xd9wn,\\xca\\x95q\\xa2\\xaa\\x95\\x9e+\\xe7\\x16\\xc6\\xf8N\\x8b\\xfa%/#%%\\x9f\\xd3\\xe3T\\xc3\\x04L\\xff\\x01\\x92\\'\\xfdv\\xff\\xfb4\\xc4\\xfb\\x80\\x08\\x14ek\\xe60\\xc9\\xe0\\xf2\\x15-<\\xf1\\x95\\xe5\\xab\\xaa\\xbe\\xf2D\\xce\\xeb\\x1fy\\xbe\\xad\\x12\\x94\\xa6/Ha\\xfb\\xf9\\n\\xaa\\xc6@\\x13\\x00\\x02\\x80\\x00>\\x00Z\\x91(\\xe8x\\x11x\\xb5t\\xcb\\x8f\\x96\\x8f\\xa3\\xb1\\xb9_r\\x94^K\\x13\\xfc\\xf0\\x95\\x91\\x1b\\x80\\x82\\xca\\xa2B-\\xfc\\xca\\xec\\xfag\\x19b\\x88\"\\x9b\\x12\\x83a\\xb4\\xc0\\xa4\\x86&m\\x04\\x81\\'D\\xb1\\xde}\\xad\\xeb\\xff\\xb9\\x7f\\x06\\xcf\\xa8\\xf5\\x13\\xd9\\xdc\\xa6~g\\xc4!\\xf9\\xb1MqI7k\\x8dL\\xc7\\xa1\\xda\\x04\\xe2!\\nf\\xff\\xfb$\\xc4\\xfa\\x00\\x06\\xb4o]\\xe3\\xa4A\\x80\\xd7\\x14\\xaa\\xfa\\x920\\x04\\xa9p\\xec\\x80K\\x04\\xfb\\xf4\\xcd\\xcd\\xc9\\x872Z\\xa6\\xe9\\xc3\\x1a\\xcf\\xfe\\xee\\xeb\\x99]L\\xec~uS*\\x19\\x08\\xc4\\x00W\\x01\\xe0B\\x08\\xae%\\x1b\\x15\\xce\":\\xd3\\x92\\xce\\xa5\\x14\\x94\\x8bu\\xf6\\xbf\\x9e[3|\\xa7\\x95\\x98&\\x11x0\\x08]TA\\xa5U\\xb9\\x8c\\xec\\xa8\\x96\\xa2\\x0c\\x1c\\x01\\x89\\x85\\x87\\r\\xf5_UZ\\xe8\\x8e\\xfd\\x08*c\\xecr#\\xff\\xfbt\\xc4\\xf5\\x80\\x13\\xc4\\xedY\\xf9\\x8d\\x10\\x02\\t\\xa2\\xed\\xbf\\xb2\\xf0\\x04\\x7f\\xe8e+\\xddj4`\\xe2\\xbb\\xca\\x12\\x03\\xa0\\x0c\\xf7\\xf47\\xe9\\xc6\\x86\\xea\\xfd\\xa9\\xc51\\x10 \\xc8\\x0eZ\\x04\\xa0\\xf5\\xb7#E\\xbd\\x1eK\\x00\\x1b\\x06\\xc9E\\xe1\\xb7\\xb9\\x9c\\x8c1\\xdfCo\\x7f\\x01YJE\\xba\\x04\\x93\\xae\\x14*\\xe5w\\x95\\xeb\\xebzR\\x0b\\xf8\\xe6\\x96\\xd9/\\x84B\\x86\\xb12\\x1b\\xfb\\xca8\"*\\rh\\tE\\xc9\\x06\\x9a\\x01i\\x15\\x92]?\\xf2\\xae<T\\x04\\x05\\x0c\\xed\\xe3\\xbb \\x80\\x00\\x08\\xa9\\'\\x14\\xcd.\\x99\\xaa\\xa5\\xe0r\\x9f\\xab\\x83\\xd98\\xf8\\xcb\\xe19^\\xf9\\xf3V|\\xbb\\x82\\xcag\\xdb\\xe4\\xb8H\\x8a8\\x11\\x8b~\\x8ca\\xaf\\xb2\\xf7)\\x1f&9\\x08gc\\xbb\\x7f\\xd2\\xc4@\\x98\\xfb\\x07\\x86\\x8c!\\n\\xf3\\x9c\\xe8F*\\x98s\\x8a2\\x95\\x1c@\\xd7\\xfe\\xfa\\xc7f\\xa70\\x00\\x00I%.\\x0f\\x88\\xd5!\\x9ab\\xc2\\xe1\\x04\\xb1\\x88ga8V<<\\x8dRZ]m\\xb5\\xf6\\x08\\x08:^>\\xeef\\xd0\\xe52\\x037q\\x04\\xef\\xb1\\x92\\xf0Bb\\xd8\"B\\xfb7)e\\xd6\\x92\\xe5\\x89\\x80R$\\x12\\x05;\\x83I\\x92\\xff\\xa8\\xff\\xfbd\\xc4\\xea\\x80\\x10%Gq\\xe6\\x05v!x\\xa3\\xaf<\\xc2\\xb2\\xf4W\\xeb*$\\xcd@\\x81\\x007x\\x85\\xc1\\xf7Y\\xeb%|\\x9d\\x96\\xbf\\x12\\x85\\x02 d\\x0c^\"\\xfe\\x85[5Q\\xe3\\xa2\\x0c9\\x9a\\xfbF\\xb1f\\xe3\\xcc\\xbf\\xf9\\x05\\xd6\\x17\\x8bL\\xf34\\xe45\\xcaO9\\xc0r\\xa1\\xae]bg1\\xd3\\xa1\\xd3c\\x94\\xaf\\xd5c\\xff\\xec\\xba\\xa6BS\\x10\\x00\\x00\\x08\\xde\\x14\\x8a\\x95JH\\xe5\\x1f\\xcaR\\xed\\x00#\\x014X\\x86\\xc4\\xbe)\\x11\\x80\\x06\\x04q\\x8e\\xca_\\x02\\xe7\\x04\\x80\\xd0\\xab\\xc9\\xa9\\x17>w\\xda\\x16~\"\\x0c,T14(T(\\x14\\n\\x8d\\xf9\\xb2\\xf8\\xed\\xcb\\x15Z\\x86 \\x891\\xfbd?\\xde\\xef\\xba\"\\xfem5rd\\x06@\\x00\\x15\\xe0!\\x8d`t\\x91d\\xa9\\x84R\\x02\\t\\x87\\x9d\\x1d\\x9emS\\xcf\\x9f\\xc6\\xfd\\xfb&\\x02\\xd4\\x9c\\x9d\\xde\\x9dJ\\xd9\\xb54\\xbc\\x14\\xa5\\x8f\\x9bX\\x12\\xb9\\x81\\t8\\xbb\\xdc\\xe8~\\xc7\\x12\\xa1\\x02\\x95\\xff\\xfbT\\xc4\\xe8\\x00\\n\\xe4\\x89w\\xe7\\x84\\xd8\\x01I\\x9do\\xbd\\x86\\x14\\xfc-_u9\\xdd\\xdf\\x94\\x8c\\xd0\\xe3\\x9f\\x13\\xb4\\xb6\\xd7^pT?N\\x83\\x17\\x1e\\x14\\xfb\\\\\\xaa\\xaa\\x98\\x80#p\\x00\\x00$\\xde\\x0e\\xf7\\xc9\\xd6d\\x84\\x03\\xd0\\x97\"I\\x0b\\xc3\\xfc\\xf9C\\xd1\\xed8\\xb5\\xab\\xd2\\xb0\\x17`{i=w\\x95\\xdd\\x19\\xed\\xab^\\xda\\xedY\\xd1\\xb3\\xf4\\x8e\\xd5\\xd6\\x1cY\\x00\\xd4\\x9d\\xe4$\\xaf\\xb9\\x0b]\\xa9\\x1537\\xff\\'5k\\x1d\\xb0<X\\x88X\\xe3P\\x86\\xe3\\xf4\\xff\\xff\\xf7\\x86\\xdc\\x81P\\x17\\x13\\x87\\x82\\x87\\xb9\\xd0\\x808\\x0b\\x00\\xc6\\x85\\x7f\\xb9\\x89\\xfd\\xb9\\xc3U@2H%:\\x19\\xdc\\xaa\\x8a7\\x0fCq\\x98\\xcb\\xc3MML\\xfe\\xa3\\xe8\\xd5\\x98\"\\xec\\x87\\x1c\\xc4\\xfbY\\x1a.\\x01\\xff\\xfbT\\xc4\\xe8\\x80\\tx\\xbf}\\xe6\\x04r!-\\x10o\\xfd\\x84\\x19\\x84\\x03\\xbak\\xc7\\\\\\xd7\\xe4\\xa7\\xfb\\\\\\xfb\\xdexPi\\\\\\x0f\\xd5E\\xde\\xe1 \\xfd\\xd4\\x9fV\"+\\xd9\\xf4\\xe9q\\xdf\\xd6\\xafF9\\x04\\xd1!#@\\xa0\\x98\\xd7\\xa2\\xff\\xb9\\xa9PQ\\x04\\x82r\\xde\\n\\x01 \\xd1+B\\xe8\\x0f\\x87\\xdaD\\x01T62\\xa8U\\x94Z\\xaf\\x8c\\'\\x8d\\xcf\\x1a\\xdbT\\xcf\\xff5\\xf3]I\\xa8cX\\x95`\\'\\x9a\\xd4Y\\xe1P\\xd6-\\x1ev\\xda\\xdeu\\x8b;\\xff\\x89\\rgee:9\\x00\\xe64\\xf0\\x051>\"G\\xc2\\x91\\x18\\t\\x85\\x012y\\x19ibr\\x10\\xc8e\\x1a\\x04>\\xf2\\xb4\\x85\\xff\\xdc\\xa5\\xd9\\x9bF\\x7fR\\xb2\\xc1\\x8e9VuDC\\x1a\\x8b\\xfd\\xfd\\r\\xff+V\\xab\\xff\\xfbT\\xc4\\xf2\\x80\\x8aL\\x8fu\\xe7\\xa4k\\xe1\\\\\\x98n\\xbc\\xc3\\x0bD\\xfe\\xbf\\xe1U@j\\xa3\"V\\x08\\xaa\\xb8\\x9a\\x98bS\\x01\\x88s\\x00\\x0f\\xb6@H*\\x98\\x81\\xb2`-\\xfb\\x8dvE\\x9536\\xa9-\\xd2\\xea;\\x89\\xc1\\xc0\\xf0\\xbd\\xecoa1\\x03\\xb2 \\xc8\\xa1\\xa1}\\x7f\\x95\\x89jxu\\xaa\\xe6\\xe1\\xd5T\\x02\\xc9\\xd0\\x00),\\xb4\\xf0D\\x12\\xce\\n\\xc5\\xc1\\x19*\\xc5\\xdeb\\xb5\\xc5\\xe8\\x06T\\x0bZ?\\xaeV\\x93u\\x9f\\xec\\xe1L!\\x9c\\xaca\\\\\\xd9D\\xec\\n\\x8a;\\xf8}\\xa5\\xc7\\xd5\\x89\\x98\\x88b\\x10r\\xa4\\xb0\\x00\\x04gT\\x180\\xea\\xba\\x8d\\xd1@\\\\\\x15\\xb5\\xa1>\\xc0Xft`\\xc0\\xd1\\tO\\xff\\xea[M\\xcd\\xdc\\xcd\\x15\\xdd\\t\\xe4\\xb03\\x08ph\\xe7\\xa2\\xff\\xfbT\\xc4\\xf3\\x00\\rA\\x01u\\xe7\\xb1\\r\\xe1O\\x1do}\\x84\\x15\\xf4\\x8b\\xff\\xf2\\xd2\\x91\\x9f\\x8d2\\x15.h\\xa0\\x81\\xa6\\xa8\\x00\\x04\\xa4\\x98\"\\xcf\\x8eV\\xb0S\\x00w\\x93\\xa9\\\\\\xf1\\x92\\x817t\\x12.\\xc6\\xf5\\xfa\"\\xe6S\\xcd\\x113\\tN\\x06\\xc4\\x00\\x15\\x16\\xc9q\\'\\xd5c\\xff\\xf3\\x025\\x12\\x15L.\\x0e\\xa7\\x15\\x00\\t\\xaa\\x99T\\x04Pp\\x001\\xaa\\xce\\xc0\\x8a2TdM:f\\xcfw\\x0c[\\xb1(\\x01\\x9f\\xcex\\xb1\\x0e[\\xdd\\x1a\\xbc\\xa5U\\x00@\\x18\\xb3\\xda\\xe9\\x86!\\xaa\\xe9\\x9b\\x80\\ns\\x9aU\"\\xc4\\x98\\x00\\x1f\\xe6\\xa1p,~y<X\\x03\\x13\\x02\\xcfB\\xf4\\xbf\\xa8\\xed\\'\\xf8Q\\x00o-qp@\\xfb\\x9d\\x14l\\xd7\\x94r\\x9b\\r\\xa9\\x00\\tb\\x863$\\x83\\xff\\xfbT\\xc4\\xe9\\x80\\x08$uw\\xe4\\x84vA\\x18\\x9d\\xac\\xfc\\xf4\\x88\\xbc\\x98\\x00\\x19\\x10\\xa1\\x1bd\\\\I6\\xffR4\\x9b\\r\\x91\\xbc\\x8bCLVc\\xab\\xfa\\xb5_Gu\\x0e\\x96\\x1d\\n\\x14E\\x1f\\xa2<I?\\xf8\\xf1\\x12U\\xea\\xc1C\\x9e?\\x01\\xbb\\xdf\\xa0\\x89`\\x0f\\xf0^4\\x15J@\\t1\\x034\\x9e+F\\xdaU/\\x88J\\xcaB\\x9b?\\xd0\\xb5\\xa2J\\xa9-S\\x068U*S\"\\xf2a\\x1f\\xff\\xf3&a\\x10\\x9d\\x9b\\x80CU\\x00\\n\\x1a\\xc8&\\x81\\x80\\x01/\\x88C!\\xe26\\tb\\xb4$\\x91\\x13\\xd2\\x1a\\xe4eTJ\\xf0h\\x1ay\\xdb\\xe0\\xaf\\x95\\x12\\x01T\\xf6\\xc3P\\xa0$N\\x9d$\\r\\x05A\\xaf\\xff:%LAME3.100UUUUUUU\\xff\\xfb$\\xc4\\xfb\\x00\\x06\\x98;W\\xec$a\\xc0\\xdd\\x8f\\xaa\\xfc\\xf6\\x08|UUUUUUUUUUUUUUUUUUUUUUUUUUUUUUUUUUUUUUUUUUUUUUUUUUUUUUUUUUULAME3.100UUUUUUUUUUUUUUUUUUUUUUUUUUUUUUU\\xff\\xfb4\\xc4\\xf6\\x00\\x07<\\xbdW\\xe7\\xa0a\\xa0\\xf5\\x95j\\xbcv\\x0c\\xa5UUUUUUUUUUUUUUUUUUUUUUUUUUUUUUUUUUULAME3.100UUUUUUUUUUUUUUUUUUUUUUUUUUUUUUUUUUUUUUUUUUUUUUUUUUUUUUUUUUUUUUUUUULAME3.100UUUU\\xff\\xfb$\\xc4\\xf7\\x80\\x06 gU\\xe0`E`\\xb7\\t\\xab<\\x14\\x8c\\xacUUUUUUUUUUUUUUUUUUUUUUUUUUUUUUUUUUUUUUUUUUUUUUUUUUUUUUUUUUUUUULAME3.100UUUUUUUUUUUUUUUUUUUUUUUUUUUU\\xff\\xfb$\\xc4\\xf9\\x80\\x06\\xd8\\xbfS\\xe0$\\xa5\\x80\\xda\\x17i\\xf0\\x17\\x8c\\xddUUUUUUUUUUUUUUUUUUUUUUUUUUUUUUUUUUUUUUUUUUUUUUUUUUUUUUUUUUUUUUUUUUUUUUUUUUUUUUUUUUUUUUUUUUUUUUUUUUU\\xff\\xfb\\x14\\xc4\\xf4\\x02\\xc4\\xc4+K\\xa0\\x05&@7\\x83\\xe7 \\x00\\x08$UUUUUUUUUUUUUUUUUUUUUUUUUUUUUUUUUUUUUUUUUUUUUUUUUUUUUUUUUUUUUUUUUUUUUUUUUUU\\xff\\xfb\\x14\\xc4\\xda\\x03\\xc0\\x00\\x01\\xfe\\x00\\x00\\x00 \\x00\\x00?\\xc0\\x00\\x00\\x04UUUUUUUUUUUUUUUUUUUUUUUUUUUUUUUUUUUUUUUUUUUUUUUUUUUUUUUUUUUUUUUUUUUUUUUUUUU\\xff\\xfb\\x14\\xc4\\xda\\x03\\xc0\\x00\\x01\\xfe\\x00\\x00\\x00 \\x00\\x00?\\xc0\\x00\\x00\\x04UUUUUUUUUUUUUUUUUUUUUUUUUUUUUUUUUUUUUUUUUUUUUUUUUUUUUUUUUUUUUUUUUUUUUUUUUUU\\xff\\xfb\\x14\\xc4\\xda\\x03\\xc0\\x00\\x01\\xfe\\x00\\x00\\x00 \\x00\\x00?\\xc0\\x00\\x00\\x04UUUUUUUUUUUUUUUUUUUUUUUUUUUUUUUUUUUUUUUUUUUUUUUUUUUUUUUUUUUUUUUUUUUUUUUUUUU\\xff\\xfb\\x14\\xc4\\xda\\x03\\xc0\\x00\\x01\\xfe\\x00\\x00\\x00 \\x00\\x00?\\xc0\\x00\\x00\\x04UUUUUUUUUUUUUUUUUUUUUUUUUUUUUUUUUUUUUUUUUUUUUUUUUUUUUUUUUUUUUUUUUUUUUUUUUUU'"
      ]
     },
     "execution_count": 123,
     "metadata": {},
     "output_type": "execute_result"
    }
   ],
   "source": [
    "resp.content"
   ]
  },
  {
   "cell_type": "code",
   "execution_count": 121,
   "metadata": {},
   "outputs": [
    {
     "name": "stderr",
     "output_type": "stream",
     "text": [
      "D:\\Users\\Lucas\\Proyectos Python\\anaconda\\lib\\site-packages\\pydub\\utils.py:198: RuntimeWarning: Couldn't find ffprobe or avprobe - defaulting to ffprobe, but may not work\n",
      "  warn(\"Couldn't find ffprobe or avprobe - defaulting to ffprobe, but may not work\", RuntimeWarning)\n"
     ]
    },
    {
     "ename": "FileNotFoundError",
     "evalue": "[WinError 2] El sistema no puede encontrar el archivo especificado",
     "output_type": "error",
     "traceback": [
      "\u001b[1;31m---------------------------------------------------------------------------\u001b[0m",
      "\u001b[1;31mFileNotFoundError\u001b[0m                         Traceback (most recent call last)",
      "\u001b[1;32m<ipython-input-121-68c390f7bceb>\u001b[0m in \u001b[0;36m<module>\u001b[1;34m\u001b[0m\n\u001b[1;32m----> 1\u001b[1;33m \u001b[0msong\u001b[0m \u001b[1;33m=\u001b[0m \u001b[0mAudioSegment\u001b[0m\u001b[1;33m.\u001b[0m\u001b[0mfrom_file\u001b[0m\u001b[1;33m(\u001b[0m\u001b[0mio\u001b[0m\u001b[1;33m.\u001b[0m\u001b[0mBytesIO\u001b[0m\u001b[1;33m(\u001b[0m\u001b[0mresp\u001b[0m\u001b[1;33m.\u001b[0m\u001b[0mcontent\u001b[0m\u001b[1;33m)\u001b[0m\u001b[1;33m,\u001b[0m \u001b[0mformat\u001b[0m\u001b[1;33m=\u001b[0m\u001b[1;34m\"mp3\"\u001b[0m\u001b[1;33m)\u001b[0m\u001b[1;33m\u001b[0m\u001b[1;33m\u001b[0m\u001b[0m\n\u001b[0m",
      "\u001b[1;32mD:\\Users\\Lucas\\Proyectos Python\\anaconda\\lib\\site-packages\\pydub\\audio_segment.py\u001b[0m in \u001b[0;36mfrom_file\u001b[1;34m(cls, file, format, codec, parameters, start_second, duration, **kwargs)\u001b[0m\n\u001b[0;32m    726\u001b[0m             \u001b[0minfo\u001b[0m \u001b[1;33m=\u001b[0m \u001b[1;32mNone\u001b[0m\u001b[1;33m\u001b[0m\u001b[1;33m\u001b[0m\u001b[0m\n\u001b[0;32m    727\u001b[0m         \u001b[1;32melse\u001b[0m\u001b[1;33m:\u001b[0m\u001b[1;33m\u001b[0m\u001b[1;33m\u001b[0m\u001b[0m\n\u001b[1;32m--> 728\u001b[1;33m             \u001b[0minfo\u001b[0m \u001b[1;33m=\u001b[0m \u001b[0mmediainfo_json\u001b[0m\u001b[1;33m(\u001b[0m\u001b[0morig_file\u001b[0m\u001b[1;33m,\u001b[0m \u001b[0mread_ahead_limit\u001b[0m\u001b[1;33m=\u001b[0m\u001b[0mread_ahead_limit\u001b[0m\u001b[1;33m)\u001b[0m\u001b[1;33m\u001b[0m\u001b[1;33m\u001b[0m\u001b[0m\n\u001b[0m\u001b[0;32m    729\u001b[0m         \u001b[1;32mif\u001b[0m \u001b[0minfo\u001b[0m\u001b[1;33m:\u001b[0m\u001b[1;33m\u001b[0m\u001b[1;33m\u001b[0m\u001b[0m\n\u001b[0;32m    730\u001b[0m             audio_streams = [x for x in info['streams']\n",
      "\u001b[1;32mD:\\Users\\Lucas\\Proyectos Python\\anaconda\\lib\\site-packages\\pydub\\utils.py\u001b[0m in \u001b[0;36mmediainfo_json\u001b[1;34m(filepath, read_ahead_limit)\u001b[0m\n\u001b[0;32m    272\u001b[0m \u001b[1;33m\u001b[0m\u001b[0m\n\u001b[0;32m    273\u001b[0m     \u001b[0mcommand\u001b[0m \u001b[1;33m=\u001b[0m \u001b[1;33m[\u001b[0m\u001b[0mprober\u001b[0m\u001b[1;33m,\u001b[0m \u001b[1;34m'-of'\u001b[0m\u001b[1;33m,\u001b[0m \u001b[1;34m'json'\u001b[0m\u001b[1;33m]\u001b[0m \u001b[1;33m+\u001b[0m \u001b[0mcommand_args\u001b[0m\u001b[1;33m\u001b[0m\u001b[1;33m\u001b[0m\u001b[0m\n\u001b[1;32m--> 274\u001b[1;33m     \u001b[0mres\u001b[0m \u001b[1;33m=\u001b[0m \u001b[0mPopen\u001b[0m\u001b[1;33m(\u001b[0m\u001b[0mcommand\u001b[0m\u001b[1;33m,\u001b[0m \u001b[0mstdin\u001b[0m\u001b[1;33m=\u001b[0m\u001b[0mstdin_parameter\u001b[0m\u001b[1;33m,\u001b[0m \u001b[0mstdout\u001b[0m\u001b[1;33m=\u001b[0m\u001b[0mPIPE\u001b[0m\u001b[1;33m,\u001b[0m \u001b[0mstderr\u001b[0m\u001b[1;33m=\u001b[0m\u001b[0mPIPE\u001b[0m\u001b[1;33m)\u001b[0m\u001b[1;33m\u001b[0m\u001b[1;33m\u001b[0m\u001b[0m\n\u001b[0m\u001b[0;32m    275\u001b[0m     \u001b[0moutput\u001b[0m\u001b[1;33m,\u001b[0m \u001b[0mstderr\u001b[0m \u001b[1;33m=\u001b[0m \u001b[0mres\u001b[0m\u001b[1;33m.\u001b[0m\u001b[0mcommunicate\u001b[0m\u001b[1;33m(\u001b[0m\u001b[0minput\u001b[0m\u001b[1;33m=\u001b[0m\u001b[0mstdin_data\u001b[0m\u001b[1;33m)\u001b[0m\u001b[1;33m\u001b[0m\u001b[1;33m\u001b[0m\u001b[0m\n\u001b[0;32m    276\u001b[0m     \u001b[0moutput\u001b[0m \u001b[1;33m=\u001b[0m \u001b[0moutput\u001b[0m\u001b[1;33m.\u001b[0m\u001b[0mdecode\u001b[0m\u001b[1;33m(\u001b[0m\u001b[1;34m\"utf-8\"\u001b[0m\u001b[1;33m,\u001b[0m \u001b[1;34m'ignore'\u001b[0m\u001b[1;33m)\u001b[0m\u001b[1;33m\u001b[0m\u001b[1;33m\u001b[0m\u001b[0m\n",
      "\u001b[1;32mD:\\Users\\Lucas\\Proyectos Python\\anaconda\\lib\\subprocess.py\u001b[0m in \u001b[0;36m__init__\u001b[1;34m(self, args, bufsize, executable, stdin, stdout, stderr, preexec_fn, close_fds, shell, cwd, env, universal_newlines, startupinfo, creationflags, restore_signals, start_new_session, pass_fds, encoding, errors, text)\u001b[0m\n\u001b[0;32m    852\u001b[0m                             encoding=encoding, errors=errors)\n\u001b[0;32m    853\u001b[0m \u001b[1;33m\u001b[0m\u001b[0m\n\u001b[1;32m--> 854\u001b[1;33m             self._execute_child(args, executable, preexec_fn, close_fds,\n\u001b[0m\u001b[0;32m    855\u001b[0m                                 \u001b[0mpass_fds\u001b[0m\u001b[1;33m,\u001b[0m \u001b[0mcwd\u001b[0m\u001b[1;33m,\u001b[0m \u001b[0menv\u001b[0m\u001b[1;33m,\u001b[0m\u001b[1;33m\u001b[0m\u001b[1;33m\u001b[0m\u001b[0m\n\u001b[0;32m    856\u001b[0m                                 \u001b[0mstartupinfo\u001b[0m\u001b[1;33m,\u001b[0m \u001b[0mcreationflags\u001b[0m\u001b[1;33m,\u001b[0m \u001b[0mshell\u001b[0m\u001b[1;33m,\u001b[0m\u001b[1;33m\u001b[0m\u001b[1;33m\u001b[0m\u001b[0m\n",
      "\u001b[1;32mD:\\Users\\Lucas\\Proyectos Python\\anaconda\\lib\\subprocess.py\u001b[0m in \u001b[0;36m_execute_child\u001b[1;34m(self, args, executable, preexec_fn, close_fds, pass_fds, cwd, env, startupinfo, creationflags, shell, p2cread, p2cwrite, c2pread, c2pwrite, errread, errwrite, unused_restore_signals, unused_start_new_session)\u001b[0m\n\u001b[0;32m   1305\u001b[0m             \u001b[1;31m# Start the process\u001b[0m\u001b[1;33m\u001b[0m\u001b[1;33m\u001b[0m\u001b[1;33m\u001b[0m\u001b[0m\n\u001b[0;32m   1306\u001b[0m             \u001b[1;32mtry\u001b[0m\u001b[1;33m:\u001b[0m\u001b[1;33m\u001b[0m\u001b[1;33m\u001b[0m\u001b[0m\n\u001b[1;32m-> 1307\u001b[1;33m                 hp, ht, pid, tid = _winapi.CreateProcess(executable, args,\n\u001b[0m\u001b[0;32m   1308\u001b[0m                                          \u001b[1;31m# no special security\u001b[0m\u001b[1;33m\u001b[0m\u001b[1;33m\u001b[0m\u001b[1;33m\u001b[0m\u001b[0m\n\u001b[0;32m   1309\u001b[0m                                          \u001b[1;32mNone\u001b[0m\u001b[1;33m,\u001b[0m \u001b[1;32mNone\u001b[0m\u001b[1;33m,\u001b[0m\u001b[1;33m\u001b[0m\u001b[1;33m\u001b[0m\u001b[0m\n",
      "\u001b[1;31mFileNotFoundError\u001b[0m: [WinError 2] El sistema no puede encontrar el archivo especificado"
     ]
    }
   ],
   "source": [
    "song = AudioSegment.from_file(io.BytesIO(resp.content), format=\"mp3\")\n"
   ]
  }
 ],
 "metadata": {
  "kernelspec": {
   "display_name": "Python 3",
   "language": "python",
   "name": "python3"
  },
  "language_info": {
   "codemirror_mode": {
    "name": "ipython",
    "version": 3
   },
   "file_extension": ".py",
   "mimetype": "text/x-python",
   "name": "python",
   "nbconvert_exporter": "python",
   "pygments_lexer": "ipython3",
   "version": "3.8.3"
  }
 },
 "nbformat": 4,
 "nbformat_minor": 4
}
